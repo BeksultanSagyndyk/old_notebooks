{
 "cells": [
  {
   "cell_type": "code",
   "execution_count": 26,
   "metadata": {
    "scrolled": true
   },
   "outputs": [
    {
     "name": "stdout",
     "output_type": "stream",
     "text": [
      "1.8 µs ± 21.1 ns per loop (mean ± std. dev. of 7 runs, 1000000 loops each)\n"
     ]
    }
   ],
   "source": [
    "%%timeit\n",
    "import enchant\n",
    "from enchant.checker import SpellChecker\n",
    "import pylanguagetool\n",
    "from autocorrect import spell\n",
    "import re\n",
    "#pylanguagetool pylanguagetool textfile.txt\n",
    "#spell('gff') out:off"
   ]
  },
  {
   "cell_type": "markdown",
   "metadata": {},
   "source": [
    "#### Заменяет \"испорченное\" слово на [MASK]"
   ]
  },
  {
   "cell_type": "code",
   "execution_count": 40,
   "metadata": {},
   "outputs": [],
   "source": [
    "def pyenchant_mask(text):\n",
    "    import enchant\n",
    "    from enchant.checker import SpellChecker\n",
    "    chkr = SpellChecker(\"ru_RU\",text)\n",
    "    for err in chkr:\n",
    "            err.replace('[MASK]')   \n",
    "    text = chkr.get_text()\n",
    "    return text"
   ]
  },
  {
   "cell_type": "markdown",
   "metadata": {},
   "source": [
    "#### Находит и корректирует слово "
   ]
  },
  {
   "cell_type": "code",
   "execution_count": 1,
   "metadata": {},
   "outputs": [],
   "source": [
    "def pyenchant_autocorrect(text):\n",
    "    #import enchant\n",
    "    #from autocorrect import spell\n",
    "    #from enchant.checker import SpellChecker\n",
    "    chkr = SpellChecker(\"ru_RU\",text)\n",
    "    for err in chkr:\n",
    "        lul = spell(err)\n",
    "        err.replace(lul)\n",
    "    text = chkr.get_text()\n",
    "    return text"
   ]
  },
  {
   "cell_type": "code",
   "execution_count": 7,
   "metadata": {},
   "outputs": [],
   "source": [
    "#Сreating russian dictionary for code\n",
    "import re\n",
    "with open(\"dict.opcorpora.txt\") as f:  #file from open corpora, 5890204 words\n",
    "    slovar = f.readlines()\n",
    "dictionary = []\n",
    "regex = re.compile('[^а-яА-ЯёЁ-]')      #deleting non-cyryllic symbols, for clear dictionary  \n",
    "for i in slovar:\n",
    "    i = regex.sub('',i)\n",
    "    dictionary.append(i.lower())"
   ]
  },
  {
   "cell_type": "markdown",
   "metadata": {},
   "source": [
    "### Используемый текст для эксперимента"
   ]
  },
  {
   "cell_type": "code",
   "execution_count": 8,
   "metadata": {},
   "outputs": [],
   "source": [
    "text = '33-летний муж-чина пред-стал перед судом за то, что на-нес тяжкие телес-ные повреждения 36-летней Динаре Акамбаевой, ко-торая работала на том же предприятии. Жен щина от побоев скончалась.2 января 2019 года Акамбаева за-держалась на работе, ожидая дежурную машину. Тогда Утешкенов подвез ее, но в об щежитие, г де она пр-оживала во время вахты, женщина так и не при-ехала.'\n",
    "#def text_maker(text):\n",
    "\n",
    "#text1 = []\n",
    "#for i in text:\n",
    "    #text1.append(i.split(' '))"
   ]
  },
  {
   "cell_type": "code",
   "execution_count": 9,
   "metadata": {
    "scrolled": true
   },
   "outputs": [
    {
     "data": {
      "text/plain": [
       "'33-летний муж-чина пред-стал перед судом за то, что на-нес тяжкие телес-ные повреждения 36-летней Динаре Акамбаевой, ко-торая работала на том же предприятии. Жен щина от побоев скончалась.2 января 2019 года Акамбаева за-держалась на работе, ожидая дежурную машину. Тогда Утешкенов подвез ее, но в об щежитие, г де она пр-оживала во время вахты, женщина так и не при-ехала.'"
      ]
     },
     "execution_count": 9,
     "metadata": {},
     "output_type": "execute_result"
    }
   ],
   "source": [
    "text"
   ]
  },
  {
   "cell_type": "markdown",
   "metadata": {},
   "source": [
    "#### Функция для удаления дефисов"
   ]
  },
  {
   "cell_type": "code",
   "execution_count": 10,
   "metadata": {},
   "outputs": [],
   "source": [
    "def hyphen_remover(text):\n",
    "    text = text.split(' ')\n",
    "    word_vector = []\n",
    "    new_text = ''\n",
    "    for word in text:\n",
    "        if '-' in word and not any(digit.isdigit() for digit in word) and word.lower() not in (words for words in dictionary): #checking - and digits in word\n",
    "            word = word.replace('-','')\n",
    "        word_vector.append(word)\n",
    "    #**************************************\n",
    "    for word in word_vector:\n",
    "        new_text += word+' '\n",
    "    return new_text       "
   ]
  },
  {
   "cell_type": "markdown",
   "metadata": {},
   "source": [
    "#### Результат ее работы"
   ]
  },
  {
   "cell_type": "code",
   "execution_count": 12,
   "metadata": {
    "scrolled": true
   },
   "outputs": [
    {
     "data": {
      "text/plain": [
       "'33-летний мужчина предстал перед судом за то, что нанес тяжкие телесные повреждения 36-летней Динаре Акамбаевой, которая работала на том же предприятии. Жен щина от побоев скончалась.2 января 2019 года Акамбаева задержалась на работе, ожидая дежурную машину. Тогда Утешкенов подвез ее, но в об щежитие, г де она проживала во время вахты, женщина так и не приехала. '"
      ]
     },
     "execution_count": 12,
     "metadata": {},
     "output_type": "execute_result"
    }
   ],
   "source": [
    "g"
   ]
  },
  {
   "cell_type": "code",
   "execution_count": 167,
   "metadata": {},
   "outputs": [],
   "source": [
    "#    alphabet = ['Й','Ц','У','К','Е','Н','Г','Ш','Щ','З','Х','Ф','Ы','В','А','П','Р','О','Л','Д','Ж','Э','Я','Ч','С','М','И','Т','Б','Ю']\n",
    "#    g_vec = g.split(' ') # вектор слов из текста без масок для сравнивания\n",
    "#    t_vec = t.split(' ') # вектор слов из текста с масками\n",
    "    #********************************  \n",
    "#    for i in range(len(t_vec)):\n",
    "#        if '[MASK]' in t_vec[i] and any((letter in g_vec[i]) for letter in alphabet) and '.' not in g_vec[i-1]:\n",
    "#            text = text.replace(g_vec[i-1]+' '+'[MASK]',g_vec[i-1]+' '+ g_vec[i])\n",
    "#        elif '[MASK]' in t_vec[i] and (g_vec[i-1]+g_vec[i]).lower() in dictionary:\n",
    "#            text = text.replace(t_vec[i-1]+' '+'[MASK]',g_vec[i-1] + g_vec[i])\n",
    "#        elif '[MASK]' in t_vec[i] and (g_vec[i]+g_vec[i+1]).lower() in dictionary:\n",
    "#            text = text.replace('[MASK]'+' '+t_vec[i+1],g_vec[i] + g_vec[i+1])\n",
    "    #********************************\n",
    "#    return text                             "
   ]
  },
  {
   "cell_type": "markdown",
   "metadata": {},
   "source": [
    "#### Небольшой препроцессинг"
   ]
  },
  {
   "cell_type": "code",
   "execution_count": 168,
   "metadata": {},
   "outputs": [],
   "source": [
    "t = re.sub(\"[^\\w,]\",' ', str(g))"
   ]
  },
  {
   "cell_type": "code",
   "execution_count": 13,
   "metadata": {},
   "outputs": [],
   "source": [
    "text = g.split(' ')\n",
    "word_vector = []\n",
    "new_text = ''\n",
    "#*******************************************************************************************************************\n",
    "for i in range(len(text)-1):\n",
    "    if text[i] not in dictionary and not any(digit.isdigit() for digit in text[i]):\n",
    "        text[i] = text[i]+text[i+1]\n",
    "        i+=1\n",
    "    word_vector.append(text[i])"
   ]
  },
  {
   "cell_type": "markdown",
   "metadata": {},
   "source": [
    "#### Замаскируем слова с ошибками"
   ]
  },
  {
   "cell_type": "code",
   "execution_count": null,
   "metadata": {},
   "outputs": [],
   "source": [
    "t = pyenchant_mask(g)"
   ]
  },
  {
   "cell_type": "code",
   "execution_count": 108,
   "metadata": {},
   "outputs": [
    {
     "data": {
      "text/plain": [
       "'33-летний мужчина предстал перед судом за то, что нанес тяжкие телесные повреждения 36-летней Динаре [MASK], которая работала на том же предприятии. Жен [MASK] от побоев скончалась.2 января 2019 года [MASK] задержалась на работе, ожидая дежурную машину. Тогда [MASK] подвез ее, но в об [MASK], [MASK] де она проживала во время вахты, женщина так и не приехала. '"
      ]
     },
     "execution_count": 108,
     "metadata": {},
     "output_type": "execute_result"
    }
   ],
   "source": [
    "t"
   ]
  },
  {
   "cell_type": "markdown",
   "metadata": {},
   "source": [
    "#### Пробегая по словарю и сравниваня g_vec и t_vec получим исправление"
   ]
  },
  {
   "cell_type": "code",
   "execution_count": 174,
   "metadata": {},
   "outputs": [],
   "source": [
    "#g=hyphen_remover(text)\n",
    "#t = pyenchant_mask(g)\n",
    "alphabet = ['Й','Ц','У','К','Е','Н','Г','Ш','Щ','З','Х','Ф','Ы','В','А','П','Р','О','Л','Д','Ж','Э','Я','Ч','С','М','И','Т','Б','Ю']\n",
    "final_vec = []\n",
    "g_vec = g.split(' ') # вектор слов из текста без масок для сравнивания\n",
    "t_vec = t.split(' ') # вектор слов из текста с масками\n",
    "for i in range(len(t_vec)):\n",
    "    if '[MASK]' in t_vec[i] and any((letter in g_vec[i]) for letter in alphabet) and '.' not in g_vec[i-1]:\n",
    "        t = t.replace(g_vec[i-1]+' '+'[MASK]',g_vec[i-1]+' '+ g_vec[i])\n",
    "    elif '[MASK]' in t_vec[i] and (g_vec[i-1]+g_vec[i]).lower() in dictionary:\n",
    "        t = t.replace(t_vec[i-1]+' '+'[MASK]',g_vec[i-1] + g_vec[i])\n",
    "    elif '[MASK]' in t_vec[i] and (g_vec[i]+g_vec[i+1]).lower() in dictionary:\n",
    "        t = t.replace('[MASK]'+' '+t_vec[i+1],g_vec[i] + g_vec[i+1])"
   ]
  },
  {
   "cell_type": "code",
   "execution_count": 170,
   "metadata": {},
   "outputs": [
    {
     "data": {
      "text/plain": [
       "'33-летний мужчина предстал перед судом за то, что нанес тяжкие телесные повреждения 36-летней Динаре Акамбаевой,, которая работала на том же предприятии. Женщина от побоев скончалась.2 января 2019 года Акамбаева задержалась на работе, ожидая дежурную машину. Тогда Утешкенов подвез ее, но в общежитии, где она проживала во время вахты, женщина так и не приехала. '"
      ]
     },
     "execution_count": 170,
     "metadata": {},
     "output_type": "execute_result"
    }
   ],
   "source": [
    "t"
   ]
  }
 ],
 "metadata": {
  "kernelspec": {
   "display_name": "Python 3",
   "language": "python",
   "name": "python3"
  },
  "language_info": {
   "codemirror_mode": {
    "name": "ipython",
    "version": 3
   },
   "file_extension": ".py",
   "mimetype": "text/x-python",
   "name": "python",
   "nbconvert_exporter": "python",
   "pygments_lexer": "ipython3",
   "version": "3.7.3"
  }
 },
 "nbformat": 4,
 "nbformat_minor": 2
}
