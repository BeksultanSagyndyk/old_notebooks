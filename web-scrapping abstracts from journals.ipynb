{
 "cells": [
  {
   "cell_type": "markdown",
   "metadata": {},
   "source": [
    "# dropping neccesasary libs"
   ]
  },
  {
   "cell_type": "code",
   "execution_count": 1,
   "metadata": {},
   "outputs": [],
   "source": [
    "import requests\n",
    "import mechanize\n",
    "from bs4 import BeautifulSoup as bs\n",
    "from urllib.request import urlopen, urljoin, Request"
   ]
  },
  {
   "cell_type": "markdown",
   "metadata": {},
   "source": [
    "# attempt 1(html page code not fully displayed)"
   ]
  },
  {
   "cell_type": "code",
   "execution_count": 8,
   "metadata": {},
   "outputs": [],
   "source": [
    "headers = {'accept': '*/*',\n",
    "         'user-agent': 'Mozilla/5.0 (X11; Linux x86_64) AppleWebKit/537.36 (KHTML, like Gecko) Ubuntu Chromium/73.0.3683.86 Chrome/73.0.3683.86 Safari/537.36'}\n",
    "base_url = 'https://www.sciencedirect.com/journal/computer-speech-and-language/vol/59/suppl/C'\n",
    "def lul_parser(base_url,headers):\n",
    "    session = requests.Session()\n",
    "    request = session.get(base_url,headers = headers)\n",
    "    if request.status_code == 200:\n",
    "        soup = bs(request.content, 'html.parser')\n",
    "        a = soup.find('a', attrs = \"anchor article-content-title u-margin-xs-top u-margin-s-bottom\")\n",
    "        #href = soup.find_all('a', attrs = 'anchor js-issue-item-link text-m')['href']\n",
    "        print(a)\n",
    "        #print(soup)\n",
    "    else:\n",
    "        print('shit')"
   ]
  },
  {
   "cell_type": "markdown",
   "metadata": {},
   "source": [
    "# attempt n 2 : just copied html code from necessary source(url) and get links"
   ]
  },
  {
   "cell_type": "code",
   "execution_count": null,
   "metadata": {},
   "outputs": [],
   "source": [
    "lel = '<section class=\"col-sm-16\"><div class=\"js-issues-archive-container u-margin-l-top\"><div class=\"js-issues-archive u-margin-l-bottom issues-archive\" id=\"all-issues\"><ol class=\"js-accordion-container accordion-container u-font-sans issues-accordion\"><li class=\"accordion-panel js-accordion-panel\"><button id=\"0-accordion-tab-0\" type=\"button\" class=\"accordion-panel-title u-padding-s-ver u-text-left text-l js-accordion-panel-title\" aria-expanded=\"true\" aria-controls=\"0-accordion-panel-0\"><span class=\"accordion-title js-accordion-title\">2020 — Volume 59</span><svg focusable=\"false\" viewBox=\"0 0 92 128\" width=\"17.25\" height=\"24\" class=\"icon icon-navigate-up accordion-icon navigate-up\"><path d=\"m46 46l-38 38-7-7 45-45 45 45-7 7z\"></path></svg></button><div id=\"0-accordion-panel-0\" class=\"accordion-panel-content u-padding-s-ver js-accordion-panel-content\" aria-labelledby=\"0-accordion-tab-0\"><section class=\"js-issue-list-content\"><div class=\"issue-item u-margin-s-bottom\"><a class=\"anchor js-issue-item-link text-m\" href=\"/journal/computer-speech-and-language/vol/59/suppl/C\"><span class=\"anchor-text\">Volume 59&nbsp;</span></a><span class=\"js-issue-status\"><h3 class=\"js-issue-status text-s\"><span class=\"u-text-italic\">In progress</span> (January 2020)</h3></span></div></section></div></li><li class=\"accordion-panel js-accordion-panel\"><button id=\"0-accordion-tab-1\" type=\"button\" class=\"accordion-panel-title u-padding-s-ver u-text-left text-l js-accordion-panel-title\" aria-expanded=\"true\" aria-controls=\"0-accordion-panel-1\"><span class=\"accordion-title js-accordion-title\">2019 — Volumes 53-58</span><svg focusable=\"false\" viewBox=\"0 0 92 128\" width=\"17.25\" height=\"24\" class=\"icon icon-navigate-up accordion-icon navigate-up\"><path d=\"m46 46l-38 38-7-7 45-45 45 45-7 7z\"></path></svg></button><div id=\"0-accordion-panel-1\" class=\"accordion-panel-content u-padding-s-ver js-accordion-panel-content\" aria-labelledby=\"0-accordion-tab-1\"><section class=\"js-issue-list-content\"><div class=\"issue-item u-margin-s-bottom\"><a class=\"anchor js-issue-item-link text-m\" href=\"/journal/computer-speech-and-language/vol/58/suppl/C\"><span class=\"anchor-text\">Volume 58&nbsp;</span></a><span class=\"js-issue-status\"><h3 class=\"js-issue-status text-s\"><span class=\"u-text-italic\">In progress</span> (November 2019)</h3></span></div><div class=\"issue-item u-margin-s-bottom\"><a class=\"anchor js-issue-item-link text-m\" href=\"/journal/computer-speech-and-language/vol/57/suppl/C\"><span class=\"anchor-text\">Volume 57&nbsp;</span></a><span class=\"js-issue-status\"><h3 class=\"js-issue-status text-s\">Pages 1-146 (September 2019)</h3></span></div><div class=\"issue-item u-margin-s-bottom\"><a class=\"anchor js-issue-item-link text-m\" href=\"/journal/computer-speech-and-language/vol/56/suppl/C\"><span class=\"anchor-text\">Volume 56&nbsp;</span></a><span class=\"js-issue-status\"><h3 class=\"js-issue-status text-s\">Pages 1-146 (July 2019)</h3></span></div><div class=\"issue-item u-margin-s-bottom\"><a class=\"anchor js-issue-item-link text-m\" href=\"/journal/computer-speech-and-language/vol/55/suppl/C\"><span class=\"anchor-text\">Volume 55&nbsp;</span></a><span class=\"js-issue-status\"><h3 class=\"js-issue-status text-s\">Pages 1-216 (May 2019)</h3></span></div><div class=\"issue-item u-margin-s-bottom\"><a class=\"anchor js-issue-item-link text-m\" href=\"/journal/computer-speech-and-language/vol/54/suppl/C\"><span class=\"anchor-text\">Volume 54&nbsp;</span></a><span class=\"js-issue-status\"><h3 class=\"js-issue-status text-s\">Pages 1-206 (March 2019)</h3></span></div><div class=\"issue-item u-margin-s-bottom\"><a class=\"anchor js-issue-item-link text-m\" href=\"/journal/computer-speech-and-language/vol/53/suppl/C\"><span class=\"anchor-text\">Volume 53&nbsp;</span></a><span class=\"js-issue-status\"><h3 class=\"js-issue-status text-s\">Pages 1-332 (January 2019)</h3></span></div></section></div></li><li class=\"accordion-panel js-accordion-panel\"><button id=\"0-accordion-tab-2\" type=\"button\" class=\"accordion-panel-title u-padding-s-ver u-text-left text-l js-accordion-panel-title\" aria-expanded=\"true\" aria-controls=\"0-accordion-panel-2\"><span class=\"accordion-title js-accordion-title\">2018 — Volumes 47-52</span><svg focusable=\"false\" viewBox=\"0 0 92 128\" width=\"17.25\" height=\"24\" class=\"icon icon-navigate-up accordion-icon navigate-up\"><path d=\"m46 46l-38 38-7-7 45-45 45 45-7 7z\"></path></svg></button><div id=\"0-accordion-panel-2\" class=\"accordion-panel-content u-padding-s-ver js-accordion-panel-content\" aria-labelledby=\"0-accordion-tab-2\"><section class=\"js-issue-list-content\"><div class=\"issue-item u-margin-s-bottom\"><a class=\"anchor js-issue-item-link text-m\" href=\"/journal/computer-speech-and-language/vol/52/suppl/C\"><span class=\"anchor-text\">Volume 52&nbsp;</span></a><span class=\"js-issue-status\"><h3 class=\"js-issue-status text-s\">Pages 1-256 (November 2018)</h3></span></div><div class=\"issue-item u-margin-s-bottom\"><a class=\"anchor js-issue-item-link text-m\" href=\"/journal/computer-speech-and-language/vol/51/suppl/C\"><span class=\"anchor-text\">Volume 51&nbsp;</span></a><span class=\"js-issue-status\"><h3 class=\"js-issue-status text-s\">Pages 1-136 (September 2018)</h3></span></div><div class=\"issue-item u-margin-s-bottom\"><a class=\"anchor js-issue-item-link text-m\" href=\"/journal/computer-speech-and-language/vol/50/suppl/C\"><span class=\"anchor-text\">Volume 50&nbsp;</span></a><span class=\"js-issue-status\"><h3 class=\"js-issue-status text-s\">Pages 1-174 (July 2018)</h3></span></div><div class=\"issue-item u-margin-s-bottom\"><a class=\"anchor js-issue-item-link text-m\" href=\"/journal/computer-speech-and-language/vol/49/suppl/C\"><span class=\"anchor-text\">Volume 49&nbsp;</span></a><span class=\"js-issue-status\"><h3 class=\"js-issue-status text-s\">Pages 1-120 (May 2018)</h3></span></div><div class=\"issue-item u-margin-s-bottom\"><a class=\"anchor js-issue-item-link text-m\" href=\"/journal/computer-speech-and-language/vol/48/suppl/C\"><span class=\"anchor-text\">Volume 48&nbsp;</span></a><span class=\"js-issue-status\"><h3 class=\"js-issue-status text-s\">Pages 1-122 (March 2018)</h3></span></div><div class=\"issue-item u-margin-s-bottom\"><a class=\"anchor js-issue-item-link text-m\" href=\"/journal/computer-speech-and-language/vol/47/suppl/C\"><span class=\"anchor-text\">Volume 47&nbsp;</span></a><span class=\"js-issue-status\"><h3 class=\"js-issue-status text-s\">Pages 1-350 (January 2018)</h3></span></div></section></div></li><li class=\"accordion-panel js-accordion-panel\"><button id=\"0-accordion-tab-3\" type=\"button\" class=\"accordion-panel-title u-padding-s-ver u-text-left text-l js-accordion-panel-title\" aria-expanded=\"true\" aria-controls=\"0-accordion-panel-3\"><span class=\"accordion-title js-accordion-title\">2017 — Volumes 41-46</span><svg focusable=\"false\" viewBox=\"0 0 92 128\" width=\"17.25\" height=\"24\" class=\"icon icon-navigate-up accordion-icon navigate-up\"><path d=\"m46 46l-38 38-7-7 45-45 45 45-7 7z\"></path></svg></button><div id=\"0-accordion-panel-3\" class=\"accordion-panel-content u-padding-s-ver js-accordion-panel-content\" aria-labelledby=\"0-accordion-tab-3\"><section class=\"js-issue-list-content\"><div class=\"issue-item u-margin-s-bottom\"><a class=\"anchor js-issue-item-link text-m\" href=\"/journal/computer-speech-and-language/vol/46/suppl/C\"><span class=\"anchor-text\">Volume 46&nbsp;</span></a><span class=\"js-issue-status\"><h3 class=\"js-issue-status text-s\">Pages 1-626 (November 2017)</h3></span></div><div class=\"issue-item u-margin-s-bottom\"><a class=\"anchor js-issue-item-link text-m\" href=\"/journal/computer-speech-and-language/vol/45/suppl/C\"><span class=\"anchor-text\">Volume 45&nbsp;</span></a><span class=\"js-issue-status\"><h3 class=\"js-issue-status text-s\">Pages 1-570 (September 2017)</h3></span></div><div class=\"issue-item u-margin-s-bottom\"><a class=\"anchor js-issue-item-link text-m\" href=\"/journal/computer-speech-and-language/vol/44/suppl/C\"><span class=\"anchor-text\">Volume 44&nbsp;</span></a><span class=\"js-issue-status\"><h3 class=\"js-issue-status text-s\">Pages 1-84 (July 2017)</h3></span></div><div class=\"issue-item u-margin-s-bottom\"><a class=\"anchor js-issue-item-link text-m\" href=\"/journal/computer-speech-and-language/vol/43/suppl/C\"><span class=\"anchor-text\">Volume 43&nbsp;</span></a><span class=\"js-issue-status\"><h3 class=\"js-issue-status text-s\">Pages 1-70 (May 2017)</h3></span></div><div class=\"issue-item u-margin-s-bottom\"><a class=\"anchor js-issue-item-link text-m\" href=\"/journal/computer-speech-and-language/vol/42/suppl/C\"><span class=\"anchor-text\">Volume 42&nbsp;</span></a><span class=\"js-issue-status\"><h3 class=\"js-issue-status text-s\">Pages 1-142 (March 2017)</h3></span></div><div class=\"issue-item u-margin-s-bottom\"><a class=\"anchor js-issue-item-link text-m\" href=\"/journal/computer-speech-and-language/vol/41/suppl/C\"><span class=\"anchor-text\">Volume 41&nbsp;</span></a><span class=\"js-issue-status\"><h3 class=\"js-issue-status text-s\">Pages 1-236 (January 2017)</h3></span></div></section></div></li><li class=\"accordion-panel js-accordion-panel\"><button id=\"0-accordion-tab-4\" type=\"button\" class=\"accordion-panel-title u-padding-s-ver u-text-left text-l js-accordion-panel-title\" aria-expanded=\"true\" aria-controls=\"0-accordion-panel-4\"><span class=\"accordion-title js-accordion-title\">2016 — Volumes 35-40</span><svg focusable=\"false\" viewBox=\"0 0 92 128\" width=\"17.25\" height=\"24\" class=\"icon icon-navigate-up accordion-icon navigate-up\"><path d=\"m46 46l-38 38-7-7 45-45 45 45-7 7z\"></path></svg></button><div id=\"0-accordion-panel-4\" class=\"accordion-panel-content u-padding-s-ver js-accordion-panel-content\" aria-labelledby=\"0-accordion-tab-4\"><section class=\"js-issue-list-content\"><div class=\"issue-item u-margin-s-bottom\"><a class=\"anchor js-issue-item-link text-m\" href=\"/journal/computer-speech-and-language/vol/40/suppl/C\"><span class=\"anchor-text\">Volume 40&nbsp;</span></a><span class=\"js-issue-status\"><h3 class=\"js-issue-status text-s\">Pages 1-96 (November 2016)</h3></span></div><div class=\"issue-item u-margin-s-bottom\"><a class=\"anchor js-issue-item-link text-m\" href=\"/journal/computer-speech-and-language/vol/39/suppl/C\"><span class=\"anchor-text\">Volume 39&nbsp;</span></a><span class=\"js-issue-status\"><h3 class=\"js-issue-status text-s\">Pages 1-128 (September 2016)</h3></span></div><div class=\"issue-item u-margin-s-bottom\"><a class=\"anchor js-issue-item-link text-m\" href=\"/journal/computer-speech-and-language/vol/38/suppl/C\"><span class=\"anchor-text\">Volume 38&nbsp;</span></a><span class=\"js-issue-status\"><h3 class=\"js-issue-status text-s\">Pages 1-122 (July 2016)</h3></span></div><div class=\"issue-item u-margin-s-bottom\"><a class=\"anchor js-issue-item-link text-m\" href=\"/journal/computer-speech-and-language/vol/37/suppl/C\"><span class=\"anchor-text\">Volume 37&nbsp;</span></a><span class=\"js-issue-status\"><h3 class=\"js-issue-status text-s\">Pages 1-128 (May 2016)</h3></span></div><div class=\"issue-item u-margin-s-bottom\"><a class=\"anchor js-issue-item-link text-m\" href=\"/journal/computer-speech-and-language/vol/36/suppl/C\"><span class=\"anchor-text\">Volume 36&nbsp;</span></a><span class=\"js-issue-status\"><h3 class=\"js-issue-status text-s\">Pages 1-394 (March 2016)</h3></span></div><div class=\"issue-item u-margin-s-bottom\"><a class=\"anchor js-issue-item-link text-m\" href=\"/journal/computer-speech-and-language/vol/35/suppl/C\"><span class=\"anchor-text\">Volume 35&nbsp;</span></a><span class=\"js-issue-status\"><h3 class=\"js-issue-status text-s\">Pages 1-262 (January 2016)</h3></span></div></section></div></li><li class=\"accordion-panel js-accordion-panel\"><button id=\"0-accordion-tab-5\" type=\"button\" class=\"accordion-panel-title u-padding-s-ver u-text-left text-l js-accordion-panel-title\" aria-expanded=\"true\" aria-controls=\"0-accordion-panel-5\"><span class=\"accordion-title js-accordion-title\">2015 — Volumes 29-34</span><svg focusable=\"false\" viewBox=\"0 0 92 128\" width=\"17.25\" height=\"24\" class=\"icon icon-navigate-up accordion-icon navigate-up\"><path d=\"m46 46l-38 38-7-7 45-45 45 45-7 7z\"></path></svg></button><div id=\"0-accordion-panel-5\" class=\"accordion-panel-content u-padding-s-ver js-accordion-panel-content\" aria-labelledby=\"0-accordion-tab-5\"><section class=\"js-issue-list-content\"><div class=\"issue-item u-margin-s-bottom\"><a class=\"anchor js-issue-item-link text-m\" href=\"/journal/computer-speech-and-language/vol/34/issue/1\"><span class=\"anchor-text\">Volume 34, Issue 1&nbsp;</span></a><span class=\"js-issue-status\"><h3 class=\"js-issue-status text-s\">Pages 1-322 (November 2015)</h3></span></div><div class=\"issue-item u-margin-s-bottom\"><a class=\"anchor js-issue-item-link text-m\" href=\"/journal/computer-speech-and-language/vol/33/issue/1\"><span class=\"anchor-text\">Volume 33, Issue 1&nbsp;</span></a><span class=\"js-issue-status\"><h3 class=\"js-issue-status text-s\">Pages 1-154 (September 2015)</h3></span></div><div class=\"issue-item u-margin-s-bottom\"><a class=\"anchor js-issue-item-link text-m\" href=\"/journal/computer-speech-and-language/vol/32/issue/1\"><span class=\"anchor-text\">Volume 32, Issue 1&nbsp;</span></a><span class=\"js-issue-status\"><h3 class=\"js-issue-status text-s\">Pages 1-160 (July 2015)</h3></span><div class=\"js-special-issue-title\">Hybrid Machine Translation: integration of linguistics and statistics</div></div><div class=\"issue-item u-margin-s-bottom\"><a class=\"anchor js-issue-item-link text-m\" href=\"/journal/computer-speech-and-language/vol/31/issue/1\"><span class=\"anchor-text\">Volume 31, Issue 1&nbsp;</span></a><span class=\"js-issue-status\"><h3 class=\"js-issue-status text-s\">Pages 1-112 (May 2015)</h3></span></div><div class=\"issue-item u-margin-s-bottom\"><a class=\"anchor js-issue-item-link text-m\" href=\"/journal/computer-speech-and-language/vol/30/issue/1\"><span class=\"anchor-text\">Volume 30, Issue 1&nbsp;</span></a><span class=\"js-issue-status\"><h3 class=\"js-issue-status text-s\">Pages 1-158 (March 2015)</h3></span></div><div class=\"issue-item u-margin-s-bottom\"><a class=\"anchor js-issue-item-link text-m\" href=\"/journal/computer-speech-and-language/vol/29/issue/1\"><span class=\"anchor-text\">Volume 29, Issue 1&nbsp;</span></a><span class=\"js-issue-status\"><h3 class=\"js-issue-status text-s\">Pages 1-236 (January 2015)</h3></span></div></section></div></li><li class=\"accordion-panel js-accordion-panel\"><button id=\"0-accordion-tab-6\" type=\"button\" class=\"accordion-panel-title u-padding-s-ver u-text-left text-l js-accordion-panel-title\" aria-expanded=\"true\" aria-controls=\"0-accordion-panel-6\"><span class=\"accordion-title js-accordion-title\">2014 — Volume 28</span><svg focusable=\"false\" viewBox=\"0 0 92 128\" width=\"17.25\" height=\"24\" class=\"icon icon-navigate-up accordion-icon navigate-up\"><path d=\"m46 46l-38 38-7-7 45-45 45 45-7 7z\"></path></svg></button><div id=\"0-accordion-panel-6\" class=\"accordion-panel-content u-padding-s-ver js-accordion-panel-content\" aria-labelledby=\"0-accordion-tab-6\"><section class=\"js-issue-list-content\"><div class=\"issue-item u-margin-s-bottom\"><a class=\"anchor js-issue-item-link text-m\" href=\"/journal/computer-speech-and-language/vol/28/issue/6\"><span class=\"anchor-text\">Volume 28, Issue 6&nbsp;</span></a><span class=\"js-issue-status\"><h3 class=\"js-issue-status text-s\">Pages 1255-1366 (November 2014)</h3></span></div><div class=\"issue-item u-margin-s-bottom\"><a class=\"anchor js-issue-item-link text-m\" href=\"/journal/computer-speech-and-language/vol/28/issue/5\"><span class=\"anchor-text\">Volume 28, Issue 5&nbsp;</span></a><span class=\"js-issue-status\"><h3 class=\"js-issue-status text-s\">Pages 1019-1254 (September 2014)</h3></span></div><div class=\"issue-item u-margin-s-bottom\"><a class=\"anchor js-issue-item-link text-m\" href=\"/journal/computer-speech-and-language/vol/28/issue/4\"><span class=\"anchor-text\">Volume 28, Issue 4&nbsp;</span></a><span class=\"js-issue-status\"><h3 class=\"js-issue-status text-s\">Pages 833-1018 (July 2014)</h3></span></div><div class=\"issue-item u-margin-s-bottom\"><a class=\"anchor js-issue-item-link text-m\" href=\"/journal/computer-speech-and-language/vol/28/issue/3\"><span class=\"anchor-text\">Volume 28, Issue 3&nbsp;</span></a><span class=\"js-issue-status\"><h3 class=\"js-issue-status text-s\">Pages 709-832 (May 2014)</h3></span></div><div class=\"issue-item u-margin-s-bottom\"><a class=\"anchor js-issue-item-link text-m\" href=\"/journal/computer-speech-and-language/vol/28/issue/2\"><span class=\"anchor-text\">Volume 28, Issue 2&nbsp;</span></a><span class=\"js-issue-status\"><h3 class=\"js-issue-status text-s\">Pages 343-708 (March 2014)</h3></span></div><div class=\"issue-item u-margin-s-bottom\"><a class=\"anchor js-issue-item-link text-m\" href=\"/journal/computer-speech-and-language/vol/28/issue/1\"><span class=\"anchor-text\">Volume 28, Issue 1&nbsp;</span></a><span class=\"js-issue-status\"><h3 class=\"js-issue-status text-s\">Pages 1-342 (January 2014)</h3></span></div></section></div></li><li class=\"accordion-panel js-accordion-panel\"><button id=\"0-accordion-tab-7\" type=\"button\" class=\"accordion-panel-title u-padding-s-ver u-text-left text-l js-accordion-panel-title\" aria-expanded=\"true\" aria-controls=\"0-accordion-panel-7\"><span class=\"accordion-title js-accordion-title\">2013 — Volume 27</span><svg focusable=\"false\" viewBox=\"0 0 92 128\" width=\"17.25\" height=\"24\" class=\"icon icon-navigate-up accordion-icon navigate-up\"><path d=\"m46 46l-38 38-7-7 45-45 45 45-7 7z\"></path></svg></button><div id=\"0-accordion-panel-7\" class=\"accordion-panel-content u-padding-s-ver js-accordion-panel-content\" aria-labelledby=\"0-accordion-tab-7\"><section class=\"js-issue-list-content\"><div class=\"issue-item u-margin-s-bottom\"><a class=\"anchor js-issue-item-link text-m\" href=\"/journal/computer-speech-and-language/vol/27/issue/6\"><span class=\"anchor-text\">Volume 27, Issue 6&nbsp;</span></a><span class=\"js-issue-status\"><h3 class=\"js-issue-status text-s\">Pages 1143-1248 (September 2013)</h3></span><div class=\"js-special-issue-title\">Special Issue on Speech and Language Processing for Assistive Technology</div></div><div class=\"issue-item u-margin-s-bottom\"><a class=\"anchor js-issue-item-link text-m\" href=\"/journal/computer-speech-and-language/vol/27/issue/5\"><span class=\"anchor-text\">Volume 27, Issue 5&nbsp;</span></a><span class=\"js-issue-status\"><h3 class=\"js-issue-status text-s\">Pages 1049-1142 (August 2013)</h3></span></div><div class=\"issue-item u-margin-s-bottom\"><a class=\"anchor js-issue-item-link text-m\" href=\"/journal/computer-speech-and-language/vol/27/issue/4\"><span class=\"anchor-text\">Volume 27, Issue 4&nbsp;</span></a><span class=\"js-issue-status\"><h3 class=\"js-issue-status text-s\">Pages 895-1048 (June 2013)</h3></span></div><div class=\"issue-item u-margin-s-bottom\"><a class=\"anchor js-issue-item-link text-m\" href=\"/journal/computer-speech-and-language/vol/27/issue/3\"><span class=\"anchor-text\">Volume 27, Issue 3&nbsp;</span></a><span class=\"js-issue-status\"><h3 class=\"js-issue-status text-s\">Pages 619-894 (May 2013)</h3></span><div class=\"js-special-issue-title\">Special Issue on Speech Separation and Recognition in Multisource Environments</div></div><div class=\"issue-item u-margin-s-bottom\"><a class=\"anchor js-issue-item-link text-m\" href=\"/journal/computer-speech-and-language/vol/27/issue/2\"><span class=\"anchor-text\">Volume 27, Issue 2&nbsp;</span></a><span class=\"js-issue-status\"><h3 class=\"js-issue-status text-s\">Pages 397-618 (February 2013)</h3></span><div class=\"js-special-issue-title\">Special Issue on Speech-speech translation</div></div><div class=\"issue-item u-margin-s-bottom\"><a class=\"anchor js-issue-item-link text-m\" href=\"/journal/computer-speech-and-language/vol/27/issue/1\"><span class=\"anchor-text\">Volume 27, Issue 1&nbsp;</span></a><span class=\"js-issue-status\"><h3 class=\"js-issue-status text-s\">Pages 1-396 (January 2013)</h3></span><div class=\"js-special-issue-title\">Special issue on Paralinguistics in Naturalistic Speech and Language</div></div></section></div></li><li class=\"accordion-panel js-accordion-panel\"><button id=\"0-accordion-tab-8\" type=\"button\" class=\"accordion-panel-title u-padding-s-ver u-text-left text-l js-accordion-panel-title\" aria-expanded=\"true\" aria-controls=\"0-accordion-panel-8\"><span class=\"accordion-title js-accordion-title\">2012 — Volume 26</span><svg focusable=\"false\" viewBox=\"0 0 92 128\" width=\"17.25\" height=\"24\" class=\"icon icon-navigate-up accordion-icon navigate-up\"><path d=\"m46 46l-38 38-7-7 45-45 45 45-7 7z\"></path></svg></button><div id=\"0-accordion-panel-8\" class=\"accordion-panel-content u-padding-s-ver js-accordion-panel-content\" aria-labelledby=\"0-accordion-tab-8\"><section class=\"js-issue-list-content\"><div class=\"issue-item u-margin-s-bottom\"><a class=\"anchor js-issue-item-link text-m\" href=\"/journal/computer-speech-and-language/vol/26/issue/5\"><span class=\"anchor-text\">Volume 26, Issue 5&nbsp;</span></a><span class=\"js-issue-status\"><h3 class=\"js-issue-status text-s\">Pages 307-410 (October 2012)</h3></span></div><div class=\"issue-item u-margin-s-bottom\"><a class=\"anchor js-issue-item-link text-m\" href=\"/journal/computer-speech-and-language/vol/26/issue/4\"><span class=\"anchor-text\">Volume 26, Issue 4&nbsp;</span></a><span class=\"js-issue-status\"><h3 class=\"js-issue-status text-s\">Pages 229-306 (August 2012)</h3></span></div><div class=\"issue-item u-margin-s-bottom\"><a class=\"anchor js-issue-item-link text-m\" href=\"/journal/computer-speech-and-language/vol/26/issue/3\"><span class=\"anchor-text\">Volume 26, Issue 3&nbsp;</span></a><span class=\"js-issue-status\"><h3 class=\"js-issue-status text-s\">Pages 127-228 (June 2012)</h3></span></div><div class=\"issue-item u-margin-s-bottom\"><a class=\"anchor js-issue-item-link text-m\" href=\"/journal/computer-speech-and-language/vol/26/issue/2\"><span class=\"anchor-text\">Volume 26, Issue 2&nbsp;</span></a><span class=\"js-issue-status\"><h3 class=\"js-issue-status text-s\">Pages 67-126 (April 2012)</h3></span></div><div class=\"issue-item u-margin-s-bottom\"><a class=\"anchor js-issue-item-link text-m\" href=\"/journal/computer-speech-and-language/vol/26/issue/1\"><span class=\"anchor-text\">Volume 26, Issue 1&nbsp;</span></a><span class=\"js-issue-status\"><h3 class=\"js-issue-status text-s\">Pages 1-66 (January 2012)</h3></span></div></section></div></li><li class=\"accordion-panel js-accordion-panel\"><button id=\"0-accordion-tab-9\" type=\"button\" class=\"accordion-panel-title u-padding-s-ver u-text-left text-l js-accordion-panel-title\" aria-expanded=\"true\" aria-controls=\"0-accordion-panel-9\"><span class=\"accordion-title js-accordion-title\">2011 — Volume 25</span><svg focusable=\"false\" viewBox=\"0 0 92 128\" width=\"17.25\" height=\"24\" class=\"icon icon-navigate-up accordion-icon navigate-up\"><path d=\"m46 46l-38 38-7-7 45-45 45 45-7 7z\"></path></svg></button><div id=\"0-accordion-panel-9\" class=\"accordion-panel-content u-padding-s-ver js-accordion-panel-content\" aria-labelledby=\"0-accordion-tab-9\"><section class=\"js-issue-list-content\"><div class=\"issue-item u-margin-s-bottom\"><a class=\"anchor js-issue-item-link text-m\" href=\"/journal/computer-speech-and-language/vol/25/issue/4\"><span class=\"anchor-text\">Volume 25, Issue 4&nbsp;</span></a><span class=\"js-issue-status\"><h3 class=\"js-issue-status text-s\">Pages 741-828 (October 2011)</h3></span></div><div class=\"issue-item u-margin-s-bottom\"><a class=\"anchor js-issue-item-link text-m\" href=\"/journal/computer-speech-and-language/vol/25/issue/3\"><span class=\"anchor-text\">Volume 25, Issue 3&nbsp;</span></a><span class=\"js-issue-status\"><h3 class=\"js-issue-status text-s\">Pages 481-740 (July 2011)</h3></span></div><div class=\"issue-item u-margin-s-bottom\"><a class=\"anchor js-issue-item-link text-m\" href=\"/journal/computer-speech-and-language/vol/25/issue/2\"><span class=\"anchor-text\">Volume 25, Issue 2&nbsp;</span></a><span class=\"js-issue-status\"><h3 class=\"js-issue-status text-s\">Pages 127-480 (April 2011)</h3></span><div class=\"js-special-issue-title\">Language and speech issues in the engineering of companionable dialogue systems</div></div><div class=\"issue-item u-margin-s-bottom\"><a class=\"anchor js-issue-item-link text-m\" href=\"/journal/computer-speech-and-language/vol/25/issue/1\"><span class=\"anchor-text\">Volume 25, Issue 1&nbsp;</span></a><span class=\"js-issue-status\"><h3 class=\"js-issue-status text-s\">Pages 1-126 (January 2011)</h3></span><div class=\"js-special-issue-title\">Affective Speech in Real-Life Interactions</div></div></section></div></li><li class=\"accordion-panel js-accordion-panel\"><button id=\"0-accordion-tab-10\" type=\"button\" class=\"accordion-panel-title u-padding-s-ver u-text-left text-l js-accordion-panel-title\" aria-expanded=\"true\" aria-controls=\"0-accordion-panel-10\"><span class=\"accordion-title js-accordion-title\">2010 — Volume 24</span><svg focusable=\"false\" viewBox=\"0 0 92 128\" width=\"17.25\" height=\"24\" class=\"icon icon-navigate-up accordion-icon navigate-up\"><path d=\"m46 46l-38 38-7-7 45-45 45 45-7 7z\"></path></svg></button><div id=\"0-accordion-panel-10\" class=\"accordion-panel-content u-padding-s-ver js-accordion-panel-content\" aria-labelledby=\"0-accordion-tab-10\"><section class=\"js-issue-list-content\"><div class=\"issue-item u-margin-s-bottom\"><a class=\"anchor js-issue-item-link text-m\" href=\"/journal/computer-speech-and-language/vol/24/issue/4\"><span class=\"anchor-text\">Volume 24, Issue 4&nbsp;</span></a><span class=\"js-issue-status\"><h3 class=\"js-issue-status text-s\">Pages 545-774 (October 2010)</h3></span></div><div class=\"issue-item u-margin-s-bottom\"><a class=\"anchor js-issue-item-link text-m\" href=\"/journal/computer-speech-and-language/vol/24/issue/3\"><span class=\"anchor-text\">Volume 24, Issue 3&nbsp;</span></a><span class=\"js-issue-status\"><h3 class=\"js-issue-status text-s\">Pages 431-544 (July 2010)</h3></span><div class=\"js-special-issue-title\">Emergent Artificial Intelligence Approaches for Pattern Recognition in Speech and Language Processing</div></div><div class=\"issue-item u-margin-s-bottom\"><a class=\"anchor js-issue-item-link text-m\" href=\"/journal/computer-speech-and-language/vol/24/issue/2\"><span class=\"anchor-text\">Volume 24, Issue 2&nbsp;</span></a><span class=\"js-issue-status\"><h3 class=\"js-issue-status text-s\">Pages 117-430 (April 2010)</h3></span></div><div class=\"issue-item u-margin-s-bottom\"><a class=\"anchor js-issue-item-link text-m\" href=\"/journal/computer-speech-and-language/vol/24/issue/1\"><span class=\"anchor-text\">Volume 24, Issue 1&nbsp;</span></a><span class=\"js-issue-status\"><h3 class=\"js-issue-status text-s\">Pages 1-116 (January 2010)</h3></span><div class=\"js-special-issue-title\">Speech Separation and Recognition Challenge</div></div></section></div></li><li class=\"accordion-panel js-accordion-panel\"><button id=\"0-accordion-tab-11\" type=\"button\" class=\"accordion-panel-title u-padding-s-ver u-text-left text-l js-accordion-panel-title\" aria-expanded=\"true\" aria-controls=\"0-accordion-panel-11\"><span class=\"accordion-title js-accordion-title\">2009 — Volume 23</span><svg focusable=\"false\" viewBox=\"0 0 92 128\" width=\"17.25\" height=\"24\" class=\"icon icon-navigate-up accordion-icon navigate-up\"><path d=\"m46 46l-38 38-7-7 45-45 45 45-7 7z\"></path></svg></button><div id=\"0-accordion-panel-11\" class=\"accordion-panel-content u-padding-s-ver js-accordion-panel-content\" aria-labelledby=\"0-accordion-tab-11\"><section class=\"js-issue-list-content\"><div class=\"issue-item u-margin-s-bottom\"><a class=\"anchor js-issue-item-link text-m\" href=\"/journal/computer-speech-and-language/vol/23/issue/4\"><span class=\"anchor-text\">Volume 23, Issue 4&nbsp;</span></a><span class=\"js-issue-status\"><h3 class=\"js-issue-status text-s\">Pages 407-542 (October 2009)</h3></span></div><div class=\"issue-item u-margin-s-bottom\"><a class=\"anchor js-issue-item-link text-m\" href=\"/journal/computer-speech-and-language/vol/23/issue/3\"><span class=\"anchor-text\">Volume 23, Issue 3&nbsp;</span></a><span class=\"js-issue-status\"><h3 class=\"js-issue-status text-s\">Pages 257-406 (July 2009)</h3></span></div><div class=\"issue-item u-margin-s-bottom\"><a class=\"anchor js-issue-item-link text-m\" href=\"/journal/computer-speech-and-language/vol/23/issue/2\"><span class=\"anchor-text\">Volume 23, Issue 2&nbsp;</span></a><span class=\"js-issue-status\"><h3 class=\"js-issue-status text-s\">Pages 147-256 (April 2009)</h3></span></div><div class=\"issue-item u-margin-s-bottom\"><a class=\"anchor js-issue-item-link text-m\" href=\"/journal/computer-speech-and-language/vol/23/issue/1\"><span class=\"anchor-text\">Volume 23, Issue 1&nbsp;</span></a><span class=\"js-issue-status\"><h3 class=\"js-issue-status text-s\">Pages 1-146 (January 2009)</h3></span></div></section></div></li><li class=\"accordion-panel js-accordion-panel\"><button id=\"0-accordion-tab-12\" type=\"button\" class=\"accordion-panel-title u-padding-s-ver u-text-left text-l js-accordion-panel-title\" aria-expanded=\"true\" aria-controls=\"0-accordion-panel-12\"><span class=\"accordion-title js-accordion-title\">2008 — Volume 22</span><svg focusable=\"false\" viewBox=\"0 0 92 128\" width=\"17.25\" height=\"24\" class=\"icon icon-navigate-up accordion-icon navigate-up\"><path d=\"m46 46l-38 38-7-7 45-45 45 45-7 7z\"></path></svg></button><div id=\"0-accordion-panel-12\" class=\"accordion-panel-content u-padding-s-ver js-accordion-panel-content\" aria-labelledby=\"0-accordion-tab-12\"><section class=\"js-issue-list-content\"><div class=\"issue-item u-margin-s-bottom\"><a class=\"anchor js-issue-item-link text-m\" href=\"/journal/computer-speech-and-language/vol/22/issue/4\"><span class=\"anchor-text\">Volume 22, Issue 4&nbsp;</span></a><span class=\"js-issue-status\"><h3 class=\"js-issue-status text-s\">Pages 313-430 (October 2008)</h3></span></div><div class=\"issue-item u-margin-s-bottom\"><a class=\"anchor js-issue-item-link text-m\" href=\"/journal/computer-speech-and-language/vol/22/issue/3\"><span class=\"anchor-text\">Volume 22, Issue 3&nbsp;</span></a><span class=\"js-issue-status\"><h3 class=\"js-issue-status text-s\">Pages 207-312 (July 2008)</h3></span></div><div class=\"issue-item u-margin-s-bottom\"><a class=\"anchor js-issue-item-link text-m\" href=\"/journal/computer-speech-and-language/vol/22/issue/2\"><span class=\"anchor-text\">Volume 22, Issue 2&nbsp;</span></a><span class=\"js-issue-status\"><h3 class=\"js-issue-status text-s\">Pages 107-206 (April 2008)</h3></span></div><div class=\"issue-item u-margin-s-bottom\"><a class=\"anchor js-issue-item-link text-m\" href=\"/journal/computer-speech-and-language/vol/22/issue/1\"><span class=\"anchor-text\">Volume 22, Issue 1&nbsp;</span></a><span class=\"js-issue-status\"><h3 class=\"js-issue-status text-s\">Pages 1-106 (January 2008)</h3></span></div></section></div></li><li class=\"accordion-panel js-accordion-panel\"><button id=\"0-accordion-tab-13\" type=\"button\" class=\"accordion-panel-title u-padding-s-ver u-text-left text-l js-accordion-panel-title\" aria-expanded=\"true\" aria-controls=\"0-accordion-panel-13\"><span class=\"accordion-title js-accordion-title\">2007 — Volume 21</span><svg focusable=\"false\" viewBox=\"0 0 92 128\" width=\"17.25\" height=\"24\" class=\"icon icon-navigate-up accordion-icon navigate-up\"><path d=\"m46 46l-38 38-7-7 45-45 45 45-7 7z\"></path></svg></button><div id=\"0-accordion-panel-13\" class=\"accordion-panel-content u-padding-s-ver js-accordion-panel-content\" aria-labelledby=\"0-accordion-tab-13\"><section class=\"js-issue-list-content\"><div class=\"issue-item u-margin-s-bottom\"><a class=\"anchor js-issue-item-link text-m\" href=\"/journal/computer-speech-and-language/vol/21/issue/4\"><span class=\"anchor-text\">Volume 21, Issue 4&nbsp;</span></a><span class=\"js-issue-status\"><h3 class=\"js-issue-status text-s\">Pages 579-688 (October 2007)</h3></span></div><div class=\"issue-item u-margin-s-bottom\"><a class=\"anchor js-issue-item-link text-m\" href=\"/journal/computer-speech-and-language/vol/21/issue/3\"><span class=\"anchor-text\">Volume 21, Issue 3&nbsp;</span></a><span class=\"js-issue-status\"><h3 class=\"js-issue-status text-s\">Pages 423-578 (July 2007)</h3></span></div><div class=\"issue-item u-margin-s-bottom\"><a class=\"anchor js-issue-item-link text-m\" href=\"/journal/computer-speech-and-language/vol/21/issue/2\"><span class=\"anchor-text\">Volume 21, Issue 2&nbsp;</span></a><span class=\"js-issue-status\"><h3 class=\"js-issue-status text-s\">Pages 231-422 (April 2007)</h3></span></div><div class=\"issue-item u-margin-s-bottom\"><a class=\"anchor js-issue-item-link text-m\" href=\"/journal/computer-speech-and-language/vol/21/issue/1\"><span class=\"anchor-text\">Volume 21, Issue 1&nbsp;</span></a><span class=\"js-issue-status\"><h3 class=\"js-issue-status text-s\">Pages 1-230 (January 2007)</h3></span></div></section></div></li><li class=\"accordion-panel js-accordion-panel\"><button id=\"0-accordion-tab-14\" type=\"button\" class=\"accordion-panel-title u-padding-s-ver u-text-left text-l js-accordion-panel-title\" aria-expanded=\"true\" aria-controls=\"0-accordion-panel-14\"><span class=\"accordion-title js-accordion-title\">2006 — Volume 20</span><svg focusable=\"false\" viewBox=\"0 0 92 128\" width=\"17.25\" height=\"24\" class=\"icon icon-navigate-up accordion-icon navigate-up\"><path d=\"m46 46l-38 38-7-7 45-45 45 45-7 7z\"></path></svg></button><div id=\"0-accordion-panel-14\" class=\"accordion-panel-content u-padding-s-ver js-accordion-panel-content\" aria-labelledby=\"0-accordion-tab-14\"><section class=\"js-issue-list-content\"><div class=\"issue-item u-margin-s-bottom\"><a class=\"anchor js-issue-item-link text-m\" href=\"/journal/computer-speech-and-language/vol/20/issue/4\"><span class=\"anchor-text\">Volume 20, Issue 4&nbsp;</span></a><span class=\"js-issue-status\"><h3 class=\"js-issue-status text-s\">Pages 357-658 (October 2006)</h3></span></div><div class=\"issue-item u-margin-s-bottom\"><a class=\"anchor js-issue-item-link text-m\" href=\"/journal/computer-speech-and-language/vol/20/issue/2\"><span class=\"anchor-text\">Volume 20, Issues 2–3&nbsp;</span></a><span class=\"js-issue-status\"><h3 class=\"js-issue-status text-s\">Pages 125-356 (April–July 2006)</h3></span><div class=\"js-special-issue-title\">Odyssey 2004: The speaker and Language Recognition Workshop - Odyssey-04 - Odyssey 2004: The speaker and Language Recognition Workshop</div></div><div class=\"issue-item u-margin-s-bottom\"><a class=\"anchor js-issue-item-link text-m\" href=\"/journal/computer-speech-and-language/vol/20/issue/1\"><span class=\"anchor-text\">Volume 20, Issue 1&nbsp;</span></a><span class=\"js-issue-status\"><h3 class=\"js-issue-status text-s\">Pages 1-124 (January 2006)</h3></span></div></section></div></li><li class=\"accordion-panel js-accordion-panel\"><button id=\"0-accordion-tab-15\" type=\"button\" class=\"accordion-panel-title u-padding-s-ver u-text-left text-l js-accordion-panel-title\" aria-expanded=\"true\" aria-controls=\"0-accordion-panel-15\"><span class=\"accordion-title js-accordion-title\">2005 — Volume 19</span><svg focusable=\"false\" viewBox=\"0 0 92 128\" width=\"17.25\" height=\"24\" class=\"icon icon-navigate-up accordion-icon navigate-up\"><path d=\"m46 46l-38 38-7-7 45-45 45 45-7 7z\"></path></svg></button><div id=\"0-accordion-panel-15\" class=\"accordion-panel-content u-padding-s-ver js-accordion-panel-content\" aria-labelledby=\"0-accordion-tab-15\"><section class=\"js-issue-list-content\"><div class=\"issue-item u-margin-s-bottom\"><a class=\"anchor js-issue-item-link text-m\" href=\"/journal/computer-speech-and-language/vol/19/issue/4\"><span class=\"anchor-text\">Volume 19, Issue 4&nbsp;</span></a><span class=\"js-issue-status\"><h3 class=\"js-issue-status text-s\">Pages 365-542 (October 2005)</h3></span><div class=\"js-special-issue-title\">Special issue on Multiword Expression</div></div><div class=\"issue-item u-margin-s-bottom\"><a class=\"anchor js-issue-item-link text-m\" href=\"/journal/computer-speech-and-language/vol/19/issue/3\"><span class=\"anchor-text\">Volume 19, Issue 3&nbsp;</span></a><span class=\"js-issue-status\"><h3 class=\"js-issue-status text-s\">Pages 249-364 (July 2005)</h3></span></div><div class=\"issue-item u-margin-s-bottom\"><a class=\"anchor js-issue-item-link text-m\" href=\"/journal/computer-speech-and-language/vol/19/issue/2\"><span class=\"anchor-text\">Volume 19, Issue 2&nbsp;</span></a><span class=\"js-issue-status\"><h3 class=\"js-issue-status text-s\">Pages 129-248 (April 2005)</h3></span></div><div class=\"issue-item u-margin-s-bottom\"><a class=\"anchor js-issue-item-link text-m\" href=\"/journal/computer-speech-and-language/vol/19/issue/1\"><span class=\"anchor-text\">Volume 19, Issue 1&nbsp;</span></a><span class=\"js-issue-status\"><h3 class=\"js-issue-status text-s\">Pages 1-128 (January 2005)</h3></span></div></section></div></li><li class=\"accordion-panel js-accordion-panel\"><button id=\"0-accordion-tab-16\" type=\"button\" class=\"accordion-panel-title u-padding-s-ver u-text-left text-l js-accordion-panel-title\" aria-expanded=\"true\" aria-controls=\"0-accordion-panel-16\"><span class=\"accordion-title js-accordion-title\">2004 — Volume 18</span><svg focusable=\"false\" viewBox=\"0 0 92 128\" width=\"17.25\" height=\"24\" class=\"icon icon-navigate-up accordion-icon navigate-up\"><path d=\"m46 46l-38 38-7-7 45-45 45 45-7 7z\"></path></svg></button><div id=\"0-accordion-panel-16\" class=\"accordion-panel-content u-padding-s-ver js-accordion-panel-content\" aria-labelledby=\"0-accordion-tab-16\"><section class=\"js-issue-list-content\"><div class=\"issue-item u-margin-s-bottom\"><a class=\"anchor js-issue-item-link text-m\" href=\"/journal/computer-speech-and-language/vol/18/issue/4\"><span class=\"anchor-text\">Volume 18, Issue 4&nbsp;</span></a><span class=\"js-issue-status\"><h3 class=\"js-issue-status text-s\">Pages 339-436 (October 2004)</h3></span></div><div class=\"issue-item u-margin-s-bottom\"><a class=\"anchor js-issue-item-link text-m\" href=\"/journal/computer-speech-and-language/vol/18/issue/3\"><span class=\"anchor-text\">Volume 18, Issue 3&nbsp;</span></a><span class=\"js-issue-status\"><h3 class=\"js-issue-status text-s\">Pages 201-338 (July 2004)</h3></span><div class=\"js-special-issue-title\">Word Sense Disambiguation</div></div><div class=\"issue-item u-margin-s-bottom\"><a class=\"anchor js-issue-item-link text-m\" href=\"/journal/computer-speech-and-language/vol/18/issue/2\"><span class=\"anchor-text\">Volume 18, Issue 2&nbsp;</span></a><span class=\"js-issue-status\"><h3 class=\"js-issue-status text-s\">Pages 107-200 (April 2004)</h3></span></div><div class=\"issue-item u-margin-s-bottom\"><a class=\"anchor js-issue-item-link text-m\" href=\"/journal/computer-speech-and-language/vol/18/issue/1\"><span class=\"anchor-text\">Volume 18, Issue 1&nbsp;</span></a><span class=\"js-issue-status\"><h3 class=\"js-issue-status text-s\">Pages 1-106 (January 2004)</h3></span></div></section></div></li><li class=\"accordion-panel js-accordion-panel\"><button id=\"0-accordion-tab-17\" type=\"button\" class=\"accordion-panel-title u-padding-s-ver u-text-left text-l js-accordion-panel-title\" aria-expanded=\"true\" aria-controls=\"0-accordion-panel-17\"><span class=\"accordion-title js-accordion-title\">2003 — Volume 17</span><svg focusable=\"false\" viewBox=\"0 0 92 128\" width=\"17.25\" height=\"24\" class=\"icon icon-navigate-up accordion-icon navigate-up\"><path d=\"m46 46l-38 38-7-7 45-45 45 45-7 7z\"></path></svg></button><div id=\"0-accordion-panel-17\" class=\"accordion-panel-content u-padding-s-ver js-accordion-panel-content\" aria-labelledby=\"0-accordion-tab-17\"><section class=\"js-issue-list-content\"><div class=\"issue-item u-margin-s-bottom\"><a class=\"anchor js-issue-item-link text-m\" href=\"/journal/computer-speech-and-language/vol/17/issue/4\"><span class=\"anchor-text\">Volume 17, Issue 4&nbsp;</span></a><span class=\"js-issue-status\"><h3 class=\"js-issue-status text-s\">Pages 307-416 (October 2003)</h3></span></div><div class=\"issue-item u-margin-s-bottom\"><a class=\"anchor js-issue-item-link text-m\" href=\"/journal/computer-speech-and-language/vol/17/issue/2\"><span class=\"anchor-text\">Volume 17, Issues 2–3&nbsp;</span></a><span class=\"js-issue-status\"><h3 class=\"js-issue-status text-s\">Pages 107-306 (April–July 2003)</h3></span><div class=\"js-special-issue-title\">New Computational Paradigms for Acoustic Modeling in Speech Recognition</div></div><div class=\"issue-item u-margin-s-bottom\"><a class=\"anchor js-issue-item-link text-m\" href=\"/journal/computer-speech-and-language/vol/17/issue/1\"><span class=\"anchor-text\">Volume 17, Issue 1&nbsp;</span></a><span class=\"js-issue-status\"><h3 class=\"js-issue-status text-s\">Pages 1-106 (January 2003)</h3></span></div></section></div></li><li class=\"accordion-panel js-accordion-panel\"><button id=\"0-accordion-tab-18\" type=\"button\" class=\"accordion-panel-title u-padding-s-ver u-text-left text-l js-accordion-panel-title\" aria-expanded=\"true\" aria-controls=\"0-accordion-panel-18\"><span class=\"accordion-title js-accordion-title\">2002 — Volume 16</span><svg focusable=\"false\" viewBox=\"0 0 92 128\" width=\"17.25\" height=\"24\" class=\"icon icon-navigate-up accordion-icon navigate-up\"><path d=\"m46 46l-38 38-7-7 45-45 45 45-7 7z\"></path></svg></button><div id=\"0-accordion-panel-18\" class=\"accordion-panel-content u-padding-s-ver js-accordion-panel-content\" aria-labelledby=\"0-accordion-tab-18\"><section class=\"js-issue-list-content\"><div class=\"issue-item u-margin-s-bottom\"><a class=\"anchor js-issue-item-link text-m\" href=\"/journal/computer-speech-and-language/vol/16/issue/3\"><span class=\"anchor-text\">Volume 16, Issues 3–4&nbsp;</span></a><span class=\"js-issue-status\"><h3 class=\"js-issue-status text-s\">Pages 273-550 (July–October 2002)</h3></span><div class=\"js-special-issue-title\">Spoken Language Generation</div></div><div class=\"issue-item u-margin-s-bottom\"><a class=\"anchor js-issue-item-link text-m\" href=\"/journal/computer-speech-and-language/vol/16/issue/2\"><span class=\"anchor-text\">Volume 16, Issue 2&nbsp;</span></a><span class=\"js-issue-status\"><h3 class=\"js-issue-status text-s\">Pages 165-271 (April 2002)</h3></span></div><div class=\"issue-item u-margin-s-bottom\"><a class=\"anchor js-issue-item-link text-m\" href=\"/journal/computer-speech-and-language/vol/16/issue/1\"><span class=\"anchor-text\">Volume 16, Issue 1&nbsp;</span></a><span class=\"js-issue-status\"><h3 class=\"js-issue-status text-s\">Pages 1-164 (January 2002)</h3></span></div></section></div></li><li class=\"accordion-panel js-accordion-panel\"><button id=\"0-accordion-tab-19\" type=\"button\" class=\"accordion-panel-title u-padding-s-ver u-text-left text-l js-accordion-panel-title\" aria-expanded=\"true\" aria-controls=\"0-accordion-panel-19\"><span class=\"accordion-title js-accordion-title\">2001 — Volume 15</span><svg focusable=\"false\" viewBox=\"0 0 92 128\" width=\"17.25\" height=\"24\" class=\"icon icon-navigate-up accordion-icon navigate-up\"><path d=\"m46 46l-38 38-7-7 45-45 45 45-7 7z\"></path></svg></button><div id=\"0-accordion-panel-19\" class=\"accordion-panel-content u-padding-s-ver js-accordion-panel-content\" aria-labelledby=\"0-accordion-tab-19\"><section class=\"js-issue-list-content\"><div class=\"issue-item u-margin-s-bottom\"><a class=\"anchor js-issue-item-link text-m\" href=\"/journal/computer-speech-and-language/vol/15/issue/4\"><span class=\"anchor-text\">Volume 15, Issue 4&nbsp;</span></a><span class=\"js-issue-status\"><h3 class=\"js-issue-status text-s\">Pages 337-434 (October 2001)</h3></span></div><div class=\"issue-item u-margin-s-bottom\"><a class=\"anchor js-issue-item-link text-m\" href=\"/journal/computer-speech-and-language/vol/15/issue/3\"><span class=\"anchor-text\">Volume 15, Issue 3&nbsp;</span></a><span class=\"js-issue-status\"><h3 class=\"js-issue-status text-s\">Pages 195-335 (July 2001)</h3></span></div><div class=\"issue-item u-margin-s-bottom\"><a class=\"anchor js-issue-item-link text-m\" href=\"/journal/computer-speech-and-language/vol/15/issue/2\"><span class=\"anchor-text\">Volume 15, Issue 2&nbsp;</span></a><span class=\"js-issue-status\"><h3 class=\"js-issue-status text-s\">Pages 101-194 (April 2001)</h3></span></div><div class=\"issue-item u-margin-s-bottom\"><a class=\"anchor js-issue-item-link text-m\" href=\"/journal/computer-speech-and-language/vol/15/issue/1\"><span class=\"anchor-text\">Volume 15, Issue 1&nbsp;</span></a><span class=\"js-issue-status\"><h3 class=\"js-issue-status text-s\">Pages 1-100 (January 2001)</h3></span></div></section></div></li></ol><div class=\"grid\"><div class=\"row\"><div class=\"pagination u-margin-l-top move-right\"><button class=\"pagination-button\" aria-label=\"First page\" disabled=\"\"><svg focusable=\"false\" viewBox=\"0 0 70 128\" role=\"presentation\" width=\"13.125\" height=\"24\" class=\"icon icon-navigate-first\"><path d=\"m2 16h1e1v9e1h-1e1zm14 45l45-45 7 7-38 38 38 38-7 7z\"></path></svg></button><button class=\"pagination-button\" aria-label=\"Previous page\" disabled=\"\"><svg focusable=\"false\" viewBox=\"0 0 54 128\" role=\"presentation\" width=\"10.125\" height=\"24\" class=\"icon icon-navigate-left\"><path d=\"m1 61l45-45 7 7-38 38 38 38-7 7z\"></path></svg><span class=\"pagination-label text-s u-show-inline-from-sm\">Previous</span></button><span class=\"pagination-pages-label\">page 1 of 2</span><button class=\"pagination-button\" aria-label=\"Next page\"><span class=\"pagination-label text-s u-show-inline-from-sm\">Next</span><svg focusable=\"false\" viewBox=\"0 0 54 128\" role=\"presentation\" width=\"10.125\" height=\"24\" class=\"icon icon-navigate-right\"><path d=\"m1 99l38-38-38-38 7-7 45 45-45 45z\"></path></svg></button><button class=\"pagination-button\" aria-label=\"Last page\"><svg focusable=\"false\" viewBox=\"0 0 70 128\" role=\"presentation\" width=\"13.125\" height=\"24\" class=\"icon icon-navigate-last\"><path d=\"m58 16h1e1v9e1h-1e1zm-56 83l38-38-38-38 7-7 45 45-45 45z\"></path></svg></button></div></div></div><div class=\"u-margin-l-ver u-clr-grey8\"><p class=\"u-margin-xs-bottom text-s u-display-block js-issn\">ISSN: 0885-2308</p><p class=\"u-margin-xs-bottom text-s u-display-block js-copyright\">Copyright © 2019 Elsevier Ltd. All rights reserved</p></div></div></div></section>'\n",
    "main_soup = bs(lel)\n",
    "a_list = main_soup.find_all('a')\n",
    "ssilki = []\n",
    "for i in a_list:\n",
    "    g = str(i).replace('<a class=\"anchor js-issue-item-link text-m\" href=\"','')\n",
    "    ssilki.append('https://www.sciencedirect.com'+g.split('\"><')[0])"
   ]
  },
  {
   "cell_type": "code",
   "execution_count": 489,
   "metadata": {},
   "outputs": [
    {
     "data": {
      "text/plain": [
       "(89,\n",
       " 'https://www.sciencedirect.com/journal/computer-speech-and-language/vol/59/suppl/C')"
      ]
     },
     "execution_count": 489,
     "metadata": {},
     "output_type": "execute_result"
    }
   ],
   "source": [
    "len(ssilki),ssilki[0]"
   ]
  },
  {
   "cell_type": "code",
   "execution_count": 81,
   "metadata": {},
   "outputs": [],
   "source": [
    "def lul_parser(base_url,headers):\n",
    "    session = requests.Session()\n",
    "    request = session.get(base_url,headers = headers)\n",
    "    if request.status_code == 200:\n",
    "        soup = bs(request.content, 'html.parser')\n",
    "        divs = soup.find_all('div', attrs = 'issue-item u-margin-s-bottom')\n",
    "        \n",
    "        #href = soup.find_all('a', attrs = 'anchor js-issue-item-link text-m')['href']\n",
    "        print(divs)\n",
    "    else:\n",
    "        print('shit')"
   ]
  },
  {
   "cell_type": "code",
   "execution_count": 63,
   "metadata": {},
   "outputs": [
    {
     "name": "stdout",
     "output_type": "stream",
     "text": [
      "Main page have 89 links of volumes from 2001-2019\n"
     ]
    }
   ],
   "source": [
    "print(('Main page have {} links of volumes from 2001-2019').format(len(ssilki)))"
   ]
  },
  {
   "cell_type": "markdown",
   "metadata": {},
   "source": [
    "# target = 'date keywords title abstract text author journal'"
   ]
  },
  {
   "cell_type": "markdown",
   "metadata": {},
   "source": [
    "# attempt number 3,and its working only fo volume page, main page suck\n",
    "### main page of  journal have links(89) for volumes(every release),  we need to get this links and in every links we have issues(5-20). From this issues's links we can download our target objects "
   ]
  },
  {
   "cell_type": "markdown",
   "metadata": {},
   "source": [
    "## a function that returns links to articles from journal issues "
   ]
  },
  {
   "cell_type": "code",
   "execution_count": 9,
   "metadata": {
    "scrolled": true
   },
   "outputs": [],
   "source": [
    "def links_from_volumes(links_from_main_page):\n",
    "\n",
    "    br = mechanize.Browser()\n",
    "    br.set_handle_robots(False)\n",
    "    br.addheaders = [('User-agent', 'Mozilla/5.0 (X11; U; Linux i686; en-US; rv:1.9.0.1) Gecko/2008071615 Fedora/3.0.1-1.fc9 Firefox/3.0.1')]\n",
    "    \n",
    "    l1nks = []\n",
    "    \n",
    "    for i in links_from_main_page:\n",
    "        html = br.open(i,timeout=100).read()\n",
    "        soup = bs(html,'html5lib')\n",
    "        links = soup.find_all('a', {\"class\":'anchor article-content-title u-margin-xs-top u-margin-s-bottom'})\n",
    "\n",
    "        for j in links:\n",
    "            l1nks.append('https://www.sciencedirect.com'+str(j).replace('<a class=\"anchor article-content-title u-margin-xs-top u-margin-s-bottom\" href=\"','').split('\" id=')[0])\n",
    "            \n",
    "    return l1nks        "
   ]
  },
  {
   "cell_type": "code",
   "execution_count": 72,
   "metadata": {},
   "outputs": [
    {
     "name": "stdout",
     "output_type": "stream",
     "text": [
      "четвертая ссылка из массива со ссылками: https://www.sciencedirect.com/journal/computer-speech-and-language/vol/56/suppl/C\n"
     ]
    }
   ],
   "source": [
    "print('четвертая ссылка из массива со ссылками: {}'.format(ssilki[3]))"
   ]
  },
  {
   "cell_type": "code",
   "execution_count": 98,
   "metadata": {},
   "outputs": [],
   "source": [
    "final_links = links_from_volumes(ssilki)"
   ]
  },
  {
   "cell_type": "markdown",
   "metadata": {},
   "source": [
    "## we have All  links(880), now we gonna download target objects "
   ]
  },
  {
   "cell_type": "code",
   "execution_count": null,
   "metadata": {},
   "outputs": [],
   "source": [
    "g = open('final_links.txt','a+')\n",
    "for i in final_links:\n",
    "    \n",
    "    g.write('\\r\\n'+i)"
   ]
  },
  {
   "cell_type": "code",
   "execution_count": 14,
   "metadata": {},
   "outputs": [],
   "source": [
    "br = mechanize.Browser()\n",
    "br.set_handle_robots(False)\n",
    "br.addheaders = [('User-agent', 'Mozilla/5.0 (X11; U; Linux i686; en-US; rv:1.9.0.1) Gecko/2008071615 Fedora/3.0.1-1.fc9 Firefox/3.0.1')]"
   ]
  },
  {
   "cell_type": "code",
   "execution_count": 21,
   "metadata": {},
   "outputs": [],
   "source": [
    "def final_parser(links):\n",
    "    #upperAlphabet = ['Q','W','E','R','T','Y','U','O','P','A','S','D','F','G','H','J','K','L','Z','X','C','V','B','N','M']\n",
    "    target = []\n",
    "    errors = []\n",
    "\n",
    "    for k in links:\n",
    "        html = br.open(k,timeout=200).read()\n",
    "        soup = bs(html,'html5lib')\n",
    "        \n",
    "        #*******************DATE**************************\n",
    "        \n",
    "        date = (soup.find('div',{'class':'text-xs'},{\"title\":'Go to table of contents for this volume/issue'}).text).split(', ')\n",
    "        for i in date:\n",
    "            if ('January' in i) or ('February' in i) or ('March' in i) or ('April' in i) or ('May' in i) or ('June' in i) or ('July' in i) or ('August' in i) or ('September' in i) or ('October' in i) or ('November' in i) or ('December' in i):\n",
    "                date = i\n",
    "                \n",
    "        #*******************KEYWORDS**********************\n",
    "        \n",
    "        keywordz =[]\n",
    "        keywords = soup.find('div',{'class':'Keywords u-font-serif'})\n",
    "        if type(keywords) == type(None):\n",
    "            errors.append('KeywordNone'+k)\n",
    "        else:\n",
    "            for i in keywords.find_all('div',{'class':'keyword'}):\n",
    "                keywordz.append(i.text)\n",
    "        #*******************TITLE*************************\n",
    "        \n",
    "        title = soup.find('h1',{'class':'Head u-font-serif u-h2 u-margin-s-ver'}).text\n",
    "        \n",
    "        #*******************ABSTRACT**********************\n",
    "        \n",
    "        abstract = soup.find('div',{'class':'abstract author'})\n",
    "        if type(abstract)==type(None):\n",
    "            errors.append('AbstractNone'+k)\n",
    "        else:\n",
    "            abstract = (abstract.text).replace('Abstract','')\n",
    "                             \n",
    "        #*******************JOURNAL***********************\n",
    "        #in this case,everywhere we have same journal\n",
    "        #*******************AUTHOR************************\n",
    "        authors = []                     \n",
    "        author = soup.find('div',{'class':'author-group'})\n",
    "        given_name = author.find_all('span',{'class':'text given-name'})\n",
    "        surname = author.find_all('span',{'class':'text surname'})\n",
    "        for i in range(len(given_name)):\n",
    "            authors.append(given_name[i].text+' '+surname[i].text)\n",
    "        \n",
    "                             \n",
    "        target.append({ 'Date':date,\n",
    "                        'Title':title,\n",
    "                        'Keywords':keywordz,\n",
    "                        'Abstract': abstract,\n",
    "                        'Jornal':'Computer Speech & Language',\n",
    "                        'Author': authors})\n",
    "    return target        #,errors"
   ]
  },
  {
   "cell_type": "code",
   "execution_count": 470,
   "metadata": {},
   "outputs": [],
   "source": [
    "final_data = final_parser(final_links)"
   ]
  },
  {
   "cell_type": "code",
   "execution_count": 500,
   "metadata": {},
   "outputs": [],
   "source": [
    "final_data.to_csv('Computer Speech & Language.csv')"
   ]
  },
  {
   "cell_type": "code",
   "execution_count": 14,
   "metadata": {},
   "outputs": [],
   "source": [
    "df = pandas.read_csv('Computer Speech & Language.csv')"
   ]
  },
  {
   "cell_type": "code",
   "execution_count": 15,
   "metadata": {},
   "outputs": [],
   "source": [
    "df = df.dropna()"
   ]
  },
  {
   "cell_type": "code",
   "execution_count": 16,
   "metadata": {},
   "outputs": [],
   "source": [
    "df.to_csv('final_data.csv')"
   ]
  },
  {
   "cell_type": "markdown",
   "metadata": {},
   "source": [
    "## парсим журналы с 1986-2001"
   ]
  },
  {
   "cell_type": "code",
   "execution_count": 6,
   "metadata": {},
   "outputs": [],
   "source": [
    "pum = '<section class=\"col-sm-16\"><div class=\"js-issues-archive-container u-margin-l-top\"><div class=\"js-issues-archive u-margin-l-bottom issues-archive\" id=\"all-issues\"><ol class=\"js-accordion-container accordion-container u-font-sans issues-accordion\"><li class=\"accordion-panel js-accordion-panel\"><button id=\"0-accordion-tab-0\" type=\"button\" class=\"accordion-panel-title u-padding-s-ver u-text-left text-l js-accordion-panel-title\" aria-expanded=\"true\" aria-controls=\"0-accordion-panel-0\"><span class=\"accordion-title js-accordion-title\">2000 — Volume 14</span><svg focusable=\"false\" viewBox=\"0 0 92 128\" width=\"17.25\" height=\"24\" class=\"icon icon-navigate-up accordion-icon navigate-up\"><path d=\"m46 46l-38 38-7-7 45-45 45 45-7 7z\"></path></svg></button><div id=\"0-accordion-panel-0\" class=\"accordion-panel-content u-padding-s-ver js-accordion-panel-content\" aria-labelledby=\"0-accordion-tab-0\"><section class=\"js-issue-list-content\"><div class=\"issue-item u-margin-s-bottom\"><a class=\"anchor js-issue-item-link text-m\" href=\"/journal/computer-speech-and-language/vol/14/issue/4\"><span class=\"anchor-text\">Volume 14, Issue 4&nbsp;</span></a><span class=\"js-issue-status\"><h3 class=\"js-issue-status text-s\">Pages 281-403 (October 2000)</h3></span></div><div class=\"issue-item u-margin-s-bottom\"><a class=\"anchor js-issue-item-link text-m\" href=\"/journal/computer-speech-and-language/vol/14/issue/3\"><span class=\"anchor-text\">Volume 14, Issue 3&nbsp;</span></a><span class=\"js-issue-status\"><h3 class=\"js-issue-status text-s\">Pages 177-279 (July 2000)</h3></span></div><div class=\"issue-item u-margin-s-bottom\"><a class=\"anchor js-issue-item-link text-m\" href=\"/journal/computer-speech-and-language/vol/14/issue/2\"><span class=\"anchor-text\">Volume 14, Issue 2&nbsp;</span></a><span class=\"js-issue-status\"><h3 class=\"js-issue-status text-s\">Pages 79-175 (April 2000)</h3></span></div><div class=\"issue-item u-margin-s-bottom\"><a class=\"anchor js-issue-item-link text-m\" href=\"/journal/computer-speech-and-language/vol/14/issue/1\"><span class=\"anchor-text\">Volume 14, Issue 1&nbsp;</span></a><span class=\"js-issue-status\"><h3 class=\"js-issue-status text-s\">Pages 1-77 (January 2000)</h3></span></div></section></div></li><li class=\"accordion-panel js-accordion-panel\"><button id=\"0-accordion-tab-1\" type=\"button\" class=\"accordion-panel-title u-padding-s-ver u-text-left text-l js-accordion-panel-title\" aria-expanded=\"true\" aria-controls=\"0-accordion-panel-1\"><span class=\"accordion-title js-accordion-title\">1999 — Volume 13</span><svg focusable=\"false\" viewBox=\"0 0 92 128\" width=\"17.25\" height=\"24\" class=\"icon icon-navigate-up accordion-icon navigate-up\"><path d=\"m46 46l-38 38-7-7 45-45 45 45-7 7z\"></path></svg></button><div id=\"0-accordion-panel-1\" class=\"accordion-panel-content u-padding-s-ver js-accordion-panel-content\" aria-labelledby=\"0-accordion-tab-1\"><section class=\"js-issue-list-content\"><div class=\"issue-item u-margin-s-bottom\"><a class=\"anchor js-issue-item-link text-m\" href=\"/journal/computer-speech-and-language/vol/13/issue/4\"><span class=\"anchor-text\">Volume 13, Issue 4&nbsp;</span></a><span class=\"js-issue-status\"><h3 class=\"js-issue-status text-s\">Pages 299-413 (October 1999)</h3></span></div><div class=\"issue-item u-margin-s-bottom\"><a class=\"anchor js-issue-item-link text-m\" href=\"/journal/computer-speech-and-language/vol/13/issue/3\"><span class=\"anchor-text\">Volume 13, Issue 3&nbsp;</span></a><span class=\"js-issue-status\"><h3 class=\"js-issue-status text-s\">Pages 207-298 (July 1999)</h3></span></div><div class=\"issue-item u-margin-s-bottom\"><a class=\"anchor js-issue-item-link text-m\" href=\"/journal/computer-speech-and-language/vol/13/issue/2\"><span class=\"anchor-text\">Volume 13, Issue 2&nbsp;</span></a><span class=\"js-issue-status\"><h3 class=\"js-issue-status text-s\">Pages 125-206 (April 1999)</h3></span></div><div class=\"issue-item u-margin-s-bottom\"><a class=\"anchor js-issue-item-link text-m\" href=\"/journal/computer-speech-and-language/vol/13/issue/1\"><span class=\"anchor-text\">Volume 13, Issue 1&nbsp;</span></a><span class=\"js-issue-status\"><h3 class=\"js-issue-status text-s\">Pages 1-124 (January 1999)</h3></span></div></section></div></li><li class=\"accordion-panel js-accordion-panel\"><button id=\"0-accordion-tab-2\" type=\"button\" class=\"accordion-panel-title u-padding-s-ver u-text-left text-l js-accordion-panel-title\" aria-expanded=\"true\" aria-controls=\"0-accordion-panel-2\"><span class=\"accordion-title js-accordion-title\">1998 — Volume 12</span><svg focusable=\"false\" viewBox=\"0 0 92 128\" width=\"17.25\" height=\"24\" class=\"icon icon-navigate-up accordion-icon navigate-up\"><path d=\"m46 46l-38 38-7-7 45-45 45 45-7 7z\"></path></svg></button><div id=\"0-accordion-panel-2\" class=\"accordion-panel-content u-padding-s-ver js-accordion-panel-content\" aria-labelledby=\"0-accordion-tab-2\"><section class=\"js-issue-list-content\"><div class=\"issue-item u-margin-s-bottom\"><a class=\"anchor js-issue-item-link text-m\" href=\"/journal/computer-speech-and-language/vol/12/issue/4\"><span class=\"anchor-text\">Volume 12, Issue 4&nbsp;</span></a><span class=\"js-issue-status\"><h3 class=\"js-issue-status text-s\">Pages 247-472 (October 1998)</h3></span></div><div class=\"issue-item u-margin-s-bottom\"><a class=\"anchor js-issue-item-link text-m\" href=\"/journal/computer-speech-and-language/vol/12/issue/3\"><span class=\"anchor-text\">Volume 12, Issue 3&nbsp;</span></a><span class=\"js-issue-status\"><h3 class=\"js-issue-status text-s\">Pages 143-246 (June 1998)</h3></span></div><div class=\"issue-item u-margin-s-bottom\"><a class=\"anchor js-issue-item-link text-m\" href=\"/journal/computer-speech-and-language/vol/12/issue/2\"><span class=\"anchor-text\">Volume 12, Issue 2&nbsp;</span></a><span class=\"js-issue-status\"><h3 class=\"js-issue-status text-s\">Pages 75-142 (April 1998)</h3></span></div><div class=\"issue-item u-margin-s-bottom\"><a class=\"anchor js-issue-item-link text-m\" href=\"/journal/computer-speech-and-language/vol/12/issue/1\"><span class=\"anchor-text\">Volume 12, Issue 1&nbsp;</span></a><span class=\"js-issue-status\"><h3 class=\"js-issue-status text-s\">Pages 1-73 (January 1998)</h3></span></div></section></div></li><li class=\"accordion-panel js-accordion-panel\"><button id=\"0-accordion-tab-3\" type=\"button\" class=\"accordion-panel-title u-padding-s-ver u-text-left text-l js-accordion-panel-title\" aria-expanded=\"true\" aria-controls=\"0-accordion-panel-3\"><span class=\"accordion-title js-accordion-title\">1997 — Volume 11</span><svg focusable=\"false\" viewBox=\"0 0 92 128\" width=\"17.25\" height=\"24\" class=\"icon icon-navigate-up accordion-icon navigate-up\"><path d=\"m46 46l-38 38-7-7 45-45 45 45-7 7z\"></path></svg></button><div id=\"0-accordion-panel-3\" class=\"accordion-panel-content u-padding-s-ver js-accordion-panel-content\" aria-labelledby=\"0-accordion-tab-3\"><section class=\"js-issue-list-content\"><div class=\"issue-item u-margin-s-bottom\"><a class=\"anchor js-issue-item-link text-m\" href=\"/journal/computer-speech-and-language/vol/11/issue/4\"><span class=\"anchor-text\">Volume 11, Issue 4&nbsp;</span></a><span class=\"js-issue-status\"><h3 class=\"js-issue-status text-s\">Pages 275-343 (October 1997)</h3></span></div><div class=\"issue-item u-margin-s-bottom\"><a class=\"anchor js-issue-item-link text-m\" href=\"/journal/computer-speech-and-language/vol/11/issue/3\"><span class=\"anchor-text\">Volume 11, Issue 3&nbsp;</span></a><span class=\"js-issue-status\"><h3 class=\"js-issue-status text-s\">Pages 161-273 (July 1997)</h3></span></div><div class=\"issue-item u-margin-s-bottom\"><a class=\"anchor js-issue-item-link text-m\" href=\"/journal/computer-speech-and-language/vol/11/issue/2\"><span class=\"anchor-text\">Volume 11, Issue 2&nbsp;</span></a><span class=\"js-issue-status\"><h3 class=\"js-issue-status text-s\">Pages 91-160 (April 1997)</h3></span></div><div class=\"issue-item u-margin-s-bottom\"><a class=\"anchor js-issue-item-link text-m\" href=\"/journal/computer-speech-and-language/vol/11/issue/1\"><span class=\"anchor-text\">Volume 11, Issue 1&nbsp;</span></a><span class=\"js-issue-status\"><h3 class=\"js-issue-status text-s\">Pages 1-89 (January 1997)</h3></span></div></section></div></li><li class=\"accordion-panel js-accordion-panel\"><button id=\"0-accordion-tab-4\" type=\"button\" class=\"accordion-panel-title u-padding-s-ver u-text-left text-l js-accordion-panel-title\" aria-expanded=\"true\" aria-controls=\"0-accordion-panel-4\"><span class=\"accordion-title js-accordion-title\">1996 — Volume 10</span><svg focusable=\"false\" viewBox=\"0 0 92 128\" width=\"17.25\" height=\"24\" class=\"icon icon-navigate-up accordion-icon navigate-up\"><path d=\"m46 46l-38 38-7-7 45-45 45 45-7 7z\"></path></svg></button><div id=\"0-accordion-panel-4\" class=\"accordion-panel-content u-padding-s-ver js-accordion-panel-content\" aria-labelledby=\"0-accordion-tab-4\"><section class=\"js-issue-list-content\"><div class=\"issue-item u-margin-s-bottom\"><a class=\"anchor js-issue-item-link text-m\" href=\"/journal/computer-speech-and-language/vol/10/issue/4\"><span class=\"anchor-text\">Volume 10, Issue 4&nbsp;</span></a><span class=\"js-issue-status\"><h3 class=\"js-issue-status text-s\">Pages 229-321 (October 1996)</h3></span></div><div class=\"issue-item u-margin-s-bottom\"><a class=\"anchor js-issue-item-link text-m\" href=\"/journal/computer-speech-and-language/vol/10/issue/3\"><span class=\"anchor-text\">Volume 10, Issue 3&nbsp;</span></a><span class=\"js-issue-status\"><h3 class=\"js-issue-status text-s\">Pages 155-228 (July 1996)</h3></span></div><div class=\"issue-item u-margin-s-bottom\"><a class=\"anchor js-issue-item-link text-m\" href=\"/journal/computer-speech-and-language/vol/10/issue/2\"><span class=\"anchor-text\">Volume 10, Issue 2&nbsp;</span></a><span class=\"js-issue-status\"><h3 class=\"js-issue-status text-s\">Pages 75-153 (April 1996)</h3></span></div><div class=\"issue-item u-margin-s-bottom\"><a class=\"anchor js-issue-item-link text-m\" href=\"/journal/computer-speech-and-language/vol/10/issue/1\"><span class=\"anchor-text\">Volume 10, Issue 1&nbsp;</span></a><span class=\"js-issue-status\"><h3 class=\"js-issue-status text-s\">Pages 1-74 (January 1996)</h3></span></div></section></div></li><li class=\"accordion-panel js-accordion-panel\"><button id=\"0-accordion-tab-5\" type=\"button\" class=\"accordion-panel-title u-padding-s-ver u-text-left text-l js-accordion-panel-title\" aria-expanded=\"true\" aria-controls=\"0-accordion-panel-5\"><span class=\"accordion-title js-accordion-title\">1995 — Volume 9</span><svg focusable=\"false\" viewBox=\"0 0 92 128\" width=\"17.25\" height=\"24\" class=\"icon icon-navigate-up accordion-icon navigate-up\"><path d=\"m46 46l-38 38-7-7 45-45 45 45-7 7z\"></path></svg></button><div id=\"0-accordion-panel-5\" class=\"accordion-panel-content u-padding-s-ver js-accordion-panel-content\" aria-labelledby=\"0-accordion-tab-5\"><section class=\"js-issue-list-content\"><div class=\"issue-item u-margin-s-bottom\"><a class=\"anchor js-issue-item-link text-m\" href=\"/journal/computer-speech-and-language/vol/9/issue/4\"><span class=\"anchor-text\">Volume 9, Issue 4&nbsp;</span></a><span class=\"js-issue-status\"><h3 class=\"js-issue-status text-s\">Pages 289-405 (October 1995)</h3></span></div><div class=\"issue-item u-margin-s-bottom\"><a class=\"anchor js-issue-item-link text-m\" href=\"/journal/computer-speech-and-language/vol/9/issue/3\"><span class=\"anchor-text\">Volume 9, Issue 3&nbsp;</span></a><span class=\"js-issue-status\"><h3 class=\"js-issue-status text-s\">Pages 187-288 (July 1995)</h3></span></div><div class=\"issue-item u-margin-s-bottom\"><a class=\"anchor js-issue-item-link text-m\" href=\"/journal/computer-speech-and-language/vol/9/issue/2\"><span class=\"anchor-text\">Volume 9, Issue 2&nbsp;</span></a><span class=\"js-issue-status\"><h3 class=\"js-issue-status text-s\">Pages 107-185 (April 1995)</h3></span></div><div class=\"issue-item u-margin-s-bottom\"><a class=\"anchor js-issue-item-link text-m\" href=\"/journal/computer-speech-and-language/vol/9/issue/1\"><span class=\"anchor-text\">Volume 9, Issue 1&nbsp;</span></a><span class=\"js-issue-status\"><h3 class=\"js-issue-status text-s\">Pages 1-105 (January 1995)</h3></span></div></section></div></li><li class=\"accordion-panel js-accordion-panel\"><button id=\"0-accordion-tab-6\" type=\"button\" class=\"accordion-panel-title u-padding-s-ver u-text-left text-l js-accordion-panel-title\" aria-expanded=\"true\" aria-controls=\"0-accordion-panel-6\"><span class=\"accordion-title js-accordion-title\">1994 — Volume 8</span><svg focusable=\"false\" viewBox=\"0 0 92 128\" width=\"17.25\" height=\"24\" class=\"icon icon-navigate-up accordion-icon navigate-up\"><path d=\"m46 46l-38 38-7-7 45-45 45 45-7 7z\"></path></svg></button><div id=\"0-accordion-panel-6\" class=\"accordion-panel-content u-padding-s-ver js-accordion-panel-content\" aria-labelledby=\"0-accordion-tab-6\"><section class=\"js-issue-list-content\"><div class=\"issue-item u-margin-s-bottom\"><a class=\"anchor js-issue-item-link text-m\" href=\"/journal/computer-speech-and-language/vol/8/issue/4\"><span class=\"anchor-text\">Volume 8, Issue 4&nbsp;</span></a><span class=\"js-issue-status\"><h3 class=\"js-issue-status text-s\">Pages 279-404 (October 1994)</h3></span></div><div class=\"issue-item u-margin-s-bottom\"><a class=\"anchor js-issue-item-link text-m\" href=\"/journal/computer-speech-and-language/vol/8/issue/3\"><span class=\"anchor-text\">Volume 8, Issue 3&nbsp;</span></a><span class=\"js-issue-status\"><h3 class=\"js-issue-status text-s\">Pages 177-277 (July 1994)</h3></span></div><div class=\"issue-item u-margin-s-bottom\"><a class=\"anchor js-issue-item-link text-m\" href=\"/journal/computer-speech-and-language/vol/8/issue/2\"><span class=\"anchor-text\">Volume 8, Issue 2&nbsp;</span></a><span class=\"js-issue-status\"><h3 class=\"js-issue-status text-s\">Pages 79-176 (April 1994)</h3></span></div><div class=\"issue-item u-margin-s-bottom\"><a class=\"anchor js-issue-item-link text-m\" href=\"/journal/computer-speech-and-language/vol/8/issue/1\"><span class=\"anchor-text\">Volume 8, Issue 1&nbsp;</span></a><span class=\"js-issue-status\"><h3 class=\"js-issue-status text-s\">Pages 1-78 (January 1994)</h3></span></div></section></div></li><li class=\"accordion-panel js-accordion-panel\"><button id=\"0-accordion-tab-7\" type=\"button\" class=\"accordion-panel-title u-padding-s-ver u-text-left text-l js-accordion-panel-title\" aria-expanded=\"true\" aria-controls=\"0-accordion-panel-7\"><span class=\"accordion-title js-accordion-title\">1993 — Volume 7</span><svg focusable=\"false\" viewBox=\"0 0 92 128\" width=\"17.25\" height=\"24\" class=\"icon icon-navigate-up accordion-icon navigate-up\"><path d=\"m46 46l-38 38-7-7 45-45 45 45-7 7z\"></path></svg></button><div id=\"0-accordion-panel-7\" class=\"accordion-panel-content u-padding-s-ver js-accordion-panel-content\" aria-labelledby=\"0-accordion-tab-7\"><section class=\"js-issue-list-content\"><div class=\"issue-item u-margin-s-bottom\"><a class=\"anchor js-issue-item-link text-m\" href=\"/journal/computer-speech-and-language/vol/7/issue/4\"><span class=\"anchor-text\">Volume 7, Issue 4&nbsp;</span></a><span class=\"js-issue-status\"><h3 class=\"js-issue-status text-s\">Pages i, 303-390 (October 1993)</h3></span></div><div class=\"issue-item u-margin-s-bottom\"><a class=\"anchor js-issue-item-link text-m\" href=\"/journal/computer-speech-and-language/vol/7/issue/3\"><span class=\"anchor-text\">Volume 7, Issue 3&nbsp;</span></a><span class=\"js-issue-status\"><h3 class=\"js-issue-status text-s\">Pages 193-301 (July 1993)</h3></span></div><div class=\"issue-item u-margin-s-bottom\"><a class=\"anchor js-issue-item-link text-m\" href=\"/journal/computer-speech-and-language/vol/7/issue/2\"><span class=\"anchor-text\">Volume 7, Issue 2&nbsp;</span></a><span class=\"js-issue-status\"><h3 class=\"js-issue-status text-s\">Pages 101-191 (April 1993)</h3></span></div><div class=\"issue-item u-margin-s-bottom\"><a class=\"anchor js-issue-item-link text-m\" href=\"/journal/computer-speech-and-language/vol/7/issue/1\"><span class=\"anchor-text\">Volume 7, Issue 1&nbsp;</span></a><span class=\"js-issue-status\"><h3 class=\"js-issue-status text-s\">Pages 1-100 (January 1993)</h3></span></div></section></div></li><li class=\"accordion-panel js-accordion-panel\"><button id=\"0-accordion-tab-8\" type=\"button\" class=\"accordion-panel-title u-padding-s-ver u-text-left text-l js-accordion-panel-title\" aria-expanded=\"true\" aria-controls=\"0-accordion-panel-8\"><span class=\"accordion-title js-accordion-title\">1992 — Volume 6</span><svg focusable=\"false\" viewBox=\"0 0 92 128\" width=\"17.25\" height=\"24\" class=\"icon icon-navigate-up accordion-icon navigate-up\"><path d=\"m46 46l-38 38-7-7 45-45 45 45-7 7z\"></path></svg></button><div id=\"0-accordion-panel-8\" class=\"accordion-panel-content u-padding-s-ver js-accordion-panel-content\" aria-labelledby=\"0-accordion-tab-8\"><section class=\"js-issue-list-content\"><div class=\"issue-item u-margin-s-bottom\"><a class=\"anchor js-issue-item-link text-m\" href=\"/journal/computer-speech-and-language/vol/6/issue/4\"><span class=\"anchor-text\">Volume 6, Issue 4&nbsp;</span></a><span class=\"js-issue-status\"><h3 class=\"js-issue-status text-s\">Pages 303-402 (October 1992)</h3></span></div><div class=\"issue-item u-margin-s-bottom\"><a class=\"anchor js-issue-item-link text-m\" href=\"/journal/computer-speech-and-language/vol/6/issue/3\"><span class=\"anchor-text\">Volume 6, Issue 3&nbsp;</span></a><span class=\"js-issue-status\"><h3 class=\"js-issue-status text-s\">Pages 197-302 (July 1992)</h3></span></div><div class=\"issue-item u-margin-s-bottom\"><a class=\"anchor js-issue-item-link text-m\" href=\"/journal/computer-speech-and-language/vol/6/issue/2\"><span class=\"anchor-text\">Volume 6, Issue 2&nbsp;</span></a><span class=\"js-issue-status\"><h3 class=\"js-issue-status text-s\">Pages 103-196 (April 1992)</h3></span></div><div class=\"issue-item u-margin-s-bottom\"><a class=\"anchor js-issue-item-link text-m\" href=\"/journal/computer-speech-and-language/vol/6/issue/1\"><span class=\"anchor-text\">Volume 6, Issue 1&nbsp;</span></a><span class=\"js-issue-status\"><h3 class=\"js-issue-status text-s\">Pages 1-101 (January 1992)</h3></span></div></section></div></li><li class=\"accordion-panel js-accordion-panel\"><button id=\"0-accordion-tab-9\" type=\"button\" class=\"accordion-panel-title u-padding-s-ver u-text-left text-l js-accordion-panel-title\" aria-expanded=\"true\" aria-controls=\"0-accordion-panel-9\"><span class=\"accordion-title js-accordion-title\">1991 — Volume 5</span><svg focusable=\"false\" viewBox=\"0 0 92 128\" width=\"17.25\" height=\"24\" class=\"icon icon-navigate-up accordion-icon navigate-up\"><path d=\"m46 46l-38 38-7-7 45-45 45 45-7 7z\"></path></svg></button><div id=\"0-accordion-panel-9\" class=\"accordion-panel-content u-padding-s-ver js-accordion-panel-content\" aria-labelledby=\"0-accordion-tab-9\"><section class=\"js-issue-list-content\"><div class=\"issue-item u-margin-s-bottom\"><a class=\"anchor js-issue-item-link text-m\" href=\"/journal/computer-speech-and-language/vol/5/issue/4\"><span class=\"anchor-text\">Volume 5, Issue 4&nbsp;</span></a><span class=\"js-issue-status\"><h3 class=\"js-issue-status text-s\">Pages 297-392 (October 1991)</h3></span></div><div class=\"issue-item u-margin-s-bottom\"><a class=\"anchor js-issue-item-link text-m\" href=\"/journal/computer-speech-and-language/vol/5/issue/3\"><span class=\"anchor-text\">Volume 5, Issue 3&nbsp;</span></a><span class=\"js-issue-status\"><h3 class=\"js-issue-status text-s\">Pages 207-295 (July 1991)</h3></span></div><div class=\"issue-item u-margin-s-bottom\"><a class=\"anchor js-issue-item-link text-m\" href=\"/journal/computer-speech-and-language/vol/5/issue/2\"><span class=\"anchor-text\">Volume 5, Issue 2&nbsp;</span></a><span class=\"js-issue-status\"><h3 class=\"js-issue-status text-s\">Pages 101-206 (April 1991)</h3></span></div><div class=\"issue-item u-margin-s-bottom\"><a class=\"anchor js-issue-item-link text-m\" href=\"/journal/computer-speech-and-language/vol/5/issue/1\"><span class=\"anchor-text\">Volume 5, Issue 1&nbsp;</span></a><span class=\"js-issue-status\"><h3 class=\"js-issue-status text-s\">Pages 1-99 (January 1991)</h3></span></div></section></div></li><li class=\"accordion-panel js-accordion-panel\"><button id=\"0-accordion-tab-10\" type=\"button\" class=\"accordion-panel-title u-padding-s-ver u-text-left text-l js-accordion-panel-title\" aria-expanded=\"true\" aria-controls=\"0-accordion-panel-10\"><span class=\"accordion-title js-accordion-title\">1990 — Volume 4</span><svg focusable=\"false\" viewBox=\"0 0 92 128\" width=\"17.25\" height=\"24\" class=\"icon icon-navigate-up accordion-icon navigate-up\"><path d=\"m46 46l-38 38-7-7 45-45 45 45-7 7z\"></path></svg></button><div id=\"0-accordion-panel-10\" class=\"accordion-panel-content u-padding-s-ver js-accordion-panel-content\" aria-labelledby=\"0-accordion-tab-10\"><section class=\"js-issue-list-content\"><div class=\"issue-item u-margin-s-bottom\"><a class=\"anchor js-issue-item-link text-m\" href=\"/journal/computer-speech-and-language/vol/4/issue/4\"><span class=\"anchor-text\">Volume 4, Issue 4&nbsp;</span></a><span class=\"js-issue-status\"><h3 class=\"js-issue-status text-s\">Pages 297-391 (October 1990)</h3></span></div><div class=\"issue-item u-margin-s-bottom\"><a class=\"anchor js-issue-item-link text-m\" href=\"/journal/computer-speech-and-language/vol/4/issue/3\"><span class=\"anchor-text\">Volume 4, Issue 3&nbsp;</span></a><span class=\"js-issue-status\"><h3 class=\"js-issue-status text-s\">Pages 203-295 (July 1990)</h3></span></div><div class=\"issue-item u-margin-s-bottom\"><a class=\"anchor js-issue-item-link text-m\" href=\"/journal/computer-speech-and-language/vol/4/issue/2\"><span class=\"anchor-text\">Volume 4, Issue 2&nbsp;</span></a><span class=\"js-issue-status\"><h3 class=\"js-issue-status text-s\">Pages 79-202 (April 1990)</h3></span></div><div class=\"issue-item u-margin-s-bottom\"><a class=\"anchor js-issue-item-link text-m\" href=\"/journal/computer-speech-and-language/vol/4/issue/1\"><span class=\"anchor-text\">Volume 4, Issue 1&nbsp;</span></a><span class=\"js-issue-status\"><h3 class=\"js-issue-status text-s\">Pages 1-78 (January 1990)</h3></span></div></section></div></li><li class=\"accordion-panel js-accordion-panel\"><button id=\"0-accordion-tab-11\" type=\"button\" class=\"accordion-panel-title u-padding-s-ver u-text-left text-l js-accordion-panel-title\" aria-expanded=\"true\" aria-controls=\"0-accordion-panel-11\"><span class=\"accordion-title js-accordion-title\">1989 — Volume 3</span><svg focusable=\"false\" viewBox=\"0 0 92 128\" width=\"17.25\" height=\"24\" class=\"icon icon-navigate-up accordion-icon navigate-up\"><path d=\"m46 46l-38 38-7-7 45-45 45 45-7 7z\"></path></svg></button><div id=\"0-accordion-panel-11\" class=\"accordion-panel-content u-padding-s-ver js-accordion-panel-content\" aria-labelledby=\"0-accordion-tab-11\"><section class=\"js-issue-list-content\"><div class=\"issue-item u-margin-s-bottom\"><a class=\"anchor js-issue-item-link text-m\" href=\"/journal/computer-speech-and-language/vol/3/issue/4\"><span class=\"anchor-text\">Volume 3, Issue 4&nbsp;</span></a><span class=\"js-issue-status\"><h3 class=\"js-issue-status text-s\">Pages 301-393 (October 1989)</h3></span></div><div class=\"issue-item u-margin-s-bottom\"><a class=\"anchor js-issue-item-link text-m\" href=\"/journal/computer-speech-and-language/vol/3/issue/3\"><span class=\"anchor-text\">Volume 3, Issue 3&nbsp;</span></a><span class=\"js-issue-status\"><h3 class=\"js-issue-status text-s\">Pages 201-299 (July 1989)</h3></span></div><div class=\"issue-item u-margin-s-bottom\"><a class=\"anchor js-issue-item-link text-m\" href=\"/journal/computer-speech-and-language/vol/3/issue/2\"><span class=\"anchor-text\">Volume 3, Issue 2&nbsp;</span></a><span class=\"js-issue-status\"><h3 class=\"js-issue-status text-s\">Pages 105-199 (April 1989)</h3></span></div><div class=\"issue-item u-margin-s-bottom\"><a class=\"anchor js-issue-item-link text-m\" href=\"/journal/computer-speech-and-language/vol/3/issue/1\"><span class=\"anchor-text\">Volume 3, Issue 1&nbsp;</span></a><span class=\"js-issue-status\"><h3 class=\"js-issue-status text-s\">Pages 1-104 (January 1989)</h3></span></div></section></div></li><li class=\"accordion-panel js-accordion-panel\"><button id=\"0-accordion-tab-12\" type=\"button\" class=\"accordion-panel-title u-padding-s-ver u-text-left text-l js-accordion-panel-title\" aria-expanded=\"true\" aria-controls=\"0-accordion-panel-12\"><span class=\"accordion-title js-accordion-title\">1987 — Volume 2</span><svg focusable=\"false\" viewBox=\"0 0 92 128\" width=\"17.25\" height=\"24\" class=\"icon icon-navigate-up accordion-icon navigate-up\"><path d=\"m46 46l-38 38-7-7 45-45 45 45-7 7z\"></path></svg></button><div id=\"0-accordion-panel-12\" class=\"accordion-panel-content u-padding-s-ver js-accordion-panel-content\" aria-labelledby=\"0-accordion-tab-12\"><section class=\"js-issue-list-content\"><div class=\"issue-item u-margin-s-bottom\"><a class=\"anchor js-issue-item-link text-m\" href=\"/journal/computer-speech-and-language/vol/2/issue/3\"><span class=\"anchor-text\">Volume 2, Issues 3–4&nbsp;</span></a><span class=\"js-issue-status\"><h3 class=\"js-issue-status text-s\">Pages 133-369 (September–December 1987)</h3></span></div><div class=\"issue-item u-margin-s-bottom\"><a class=\"anchor js-issue-item-link text-m\" href=\"/journal/computer-speech-and-language/vol/2/issue/2\"><span class=\"anchor-text\">Volume 2, Issue 2&nbsp;</span></a><span class=\"js-issue-status\"><h3 class=\"js-issue-status text-s\">Pages 63-132 (June 1987)</h3></span></div><div class=\"issue-item u-margin-s-bottom\"><a class=\"anchor js-issue-item-link text-m\" href=\"/journal/computer-speech-and-language/vol/2/issue/1\"><span class=\"anchor-text\">Volume 2, Issue 1&nbsp;</span></a><span class=\"js-issue-status\"><h3 class=\"js-issue-status text-s\">Pages 1-61 (March 1987)</h3></span></div></section></div></li><li class=\"accordion-panel js-accordion-panel\"><button id=\"0-accordion-tab-13\" type=\"button\" class=\"accordion-panel-title u-padding-s-ver u-text-left text-l js-accordion-panel-title\" aria-expanded=\"true\" aria-controls=\"0-accordion-panel-13\"><span class=\"accordion-title js-accordion-title\">1986 — Volume 1</span><svg focusable=\"false\" viewBox=\"0 0 92 128\" width=\"17.25\" height=\"24\" class=\"icon icon-navigate-up accordion-icon navigate-up\"><path d=\"m46 46l-38 38-7-7 45-45 45 45-7 7z\"></path></svg></button><div id=\"0-accordion-panel-13\" class=\"accordion-panel-content u-padding-s-ver js-accordion-panel-content\" aria-labelledby=\"0-accordion-tab-13\"><section class=\"js-issue-list-content\"><div class=\"issue-item u-margin-s-bottom\"><a class=\"anchor js-issue-item-link text-m\" href=\"/journal/computer-speech-and-language/vol/1/issue/2\"><span class=\"anchor-text\">Volume 1, Issue 2&nbsp;</span></a><span class=\"js-issue-status\"><h3 class=\"js-issue-status text-s\">Pages 95-197 (December 1986)</h3></span></div><div class=\"issue-item u-margin-s-bottom\"><a class=\"anchor js-issue-item-link text-m\" href=\"/journal/computer-speech-and-language/vol/1/issue/1\"><span class=\"anchor-text\">Volume 1, Issue 1&nbsp;</span></a><span class=\"js-issue-status\"><h3 class=\"js-issue-status text-s\">Pages 1-93 (March 1986)</h3></span></div></section></div></li></ol><div class=\"grid\"><div class=\"row\"><div class=\"pagination u-margin-l-top move-right\"><button class=\"pagination-button\" aria-label=\"First page\"><svg focusable=\"false\" viewBox=\"0 0 70 128\" role=\"presentation\" width=\"13.125\" height=\"24\" class=\"icon icon-navigate-first\"><path d=\"m2 16h1e1v9e1h-1e1zm14 45l45-45 7 7-38 38 38 38-7 7z\"></path></svg></button><button class=\"pagination-button\" aria-label=\"Previous page\"><svg focusable=\"false\" viewBox=\"0 0 54 128\" role=\"presentation\" width=\"10.125\" height=\"24\" class=\"icon icon-navigate-left\"><path d=\"m1 61l45-45 7 7-38 38 38 38-7 7z\"></path></svg><span class=\"pagination-label text-s u-show-inline-from-sm\">Previous</span></button><span class=\"pagination-pages-label\">page 2 of 2</span><button class=\"pagination-button\" aria-label=\"Next page\" disabled=\"\"><span class=\"pagination-label text-s u-show-inline-from-sm\">Next</span><svg focusable=\"false\" viewBox=\"0 0 54 128\" role=\"presentation\" width=\"10.125\" height=\"24\" class=\"icon icon-navigate-right\"><path d=\"m1 99l38-38-38-38 7-7 45 45-45 45z\"></path></svg></button><button class=\"pagination-button\" aria-label=\"Last page\" disabled=\"\"><svg focusable=\"false\" viewBox=\"0 0 70 128\" role=\"presentation\" width=\"13.125\" height=\"24\" class=\"icon icon-navigate-last\"><path d=\"m58 16h1e1v9e1h-1e1zm-56 83l38-38-38-38 7-7 45 45-45 45z\"></path></svg></button></div></div></div><div class=\"u-margin-l-ver u-clr-grey8\"><p class=\"u-margin-xs-bottom text-s u-display-block js-issn\">ISSN: 0885-2308</p><p class=\"u-margin-xs-bottom text-s u-display-block js-copyright\">Copyright © 2019 Elsevier Ltd. All rights reserved</p></div></div></div></section>'\n",
    "old_soup = bs(pum)\n",
    "old_list = old_soup.find_all('a')\n",
    "old_ssilki = []\n",
    "for i in old_list:\n",
    "    g = str(i).replace('<a class=\"anchor js-issue-item-link text-m\" href=\"','')\n",
    "    old_ssilki.append('https://www.sciencedirect.com'+g.split('\"><')[0])"
   ]
  },
  {
   "cell_type": "code",
   "execution_count": 8,
   "metadata": {},
   "outputs": [
    {
     "data": {
      "text/plain": [
       "53"
      ]
     },
     "execution_count": 8,
     "metadata": {},
     "output_type": "execute_result"
    }
   ],
   "source": [
    "len(old_ssilki)"
   ]
  },
  {
   "cell_type": "markdown",
   "metadata": {},
   "source": [
    "## get links of issues from 53 volumes"
   ]
  },
  {
   "cell_type": "code",
   "execution_count": 10,
   "metadata": {},
   "outputs": [],
   "source": [
    "older_links = links_from_volumes(old_ssilki)\n",
    "final_older_data = final_parser(older_links)\n",
    "older_final_data = pandas.DataFrame(final_older_data)\n",
    "older_final_data = older_final_data.dropna()\n",
    "older_final_data.to_csv('final_data_older.csv')\n",
    "QWERTY = pandas.read_csv('final_data.csv')"
   ]
  },
  {
   "cell_type": "code",
   "execution_count": 43,
   "metadata": {},
   "outputs": [
    {
     "name": "stderr",
     "output_type": "stream",
     "text": [
      "/home/beksultan/anaconda3/lib/python3.7/site-packages/ipykernel_launcher.py:1: FutureWarning: Sorting because non-concatenation axis is not aligned. A future version\n",
      "of pandas will change to not sort by default.\n",
      "\n",
      "To accept the future behavior, pass 'sort=False'.\n",
      "\n",
      "To retain the current behavior and silence the warning, pass 'sort=True'.\n",
      "\n",
      "  \"\"\"Entry point for launching an IPython kernel.\n"
     ]
    }
   ],
   "source": [
    "result = pandas.concat([QWERTY, older_final_data], ignore_index=True)"
   ]
  },
  {
   "cell_type": "code",
   "execution_count": 48,
   "metadata": {},
   "outputs": [],
   "source": [
    "result.to_csv('result.csv')"
   ]
  }
 ],
 "metadata": {
  "kernelspec": {
   "display_name": "Python 3",
   "language": "python",
   "name": "python3"
  },
  "language_info": {
   "codemirror_mode": {
    "name": "ipython",
    "version": 3
   },
   "file_extension": ".py",
   "mimetype": "text/x-python",
   "name": "python",
   "nbconvert_exporter": "python",
   "pygments_lexer": "ipython3",
   "version": "3.7.3"
  }
 },
 "nbformat": 4,
 "nbformat_minor": 2
}
